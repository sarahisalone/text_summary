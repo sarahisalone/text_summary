{
 "cells": [
  {
   "cell_type": "markdown",
   "id": "149606c8",
   "metadata": {},
   "source": [
    "## Text summarization project using various unsupervised learning approaches\n",
    "\n",
    "Name: Sarah Darlyna Bt Mohd Radzi\n",
    "\n",
    "Student ID: 0134768\n",
    "\n",
    "### 1. Introduction\n",
    "\n",
    "Text summarization involves shortening the length of a given text/document while still retaining its context and key information. There are various applications of automatic text summarization, including condensing customer reviews, summarizing news articles, and creating summary reports from business meeting notes. \n",
    "\n",
    "Text summarization is crucial in today's age in which works are rapidly done and time is an investment, the need of quick summary of an important document and text is important in order to quickly execute a task or research while handling multiple documents. A good text summarization system saves the user’s effort and time to get the desired data from the text without needing to read the whole text \n",
    "\n",
    "There are two methods in develops the model for text summarization: extractive and abstractive. In this notebook, this project will use extractive methods. The Extractive based summarization method selects informative sentences from the document as they exactly appear in source based on specific criteria to form summary. The main challenge before extractive summarization is to decide which sentences from the input document is significant and likely to be included in the summary. For this task, sentence scoring is employed based on features of sentences. It first, assigns a score to each sentence based on feature then rank sentences according to their score. Sentences with the highest score are likely to be included in final summary.\n",
    "\n",
    "There are three different approaches/models which inlcudes K-Means Clusterer, TF-IDF model and PageRank approach use for this project. Furthermore, the evaluation of the performance of each models will be by using BLEU and ROGUE scores.\n",
    "\n",
    "#### 1.1 Hypotheses \n",
    "\n",
    "H0: Generated summary is not better than original summary\n",
    "\n",
    "H1: Generated summary is better than original summary"
   ]
  },
  {
   "cell_type": "code",
   "execution_count": 1,
   "id": "df2e1316",
   "metadata": {},
   "outputs": [
    {
     "name": "stderr",
     "output_type": "stream",
     "text": [
      "2023-11-29 08:49:38.190859: I tensorflow/core/platform/cpu_feature_guard.cc:193] This TensorFlow binary is optimized with oneAPI Deep Neural Network Library (oneDNN) to use the following CPU instructions in performance-critical operations:  AVX2 FMA\n",
      "To enable them in other operations, rebuild TensorFlow with the appropriate compiler flags.\n"
     ]
    }
   ],
   "source": [
    "from sentence_transformers import SentenceTransformer\n",
    "model = SentenceTransformer('all-MiniLM-L6-v2') #Huggingface pre-trained model, all-mini"
   ]
  },
  {
   "cell_type": "code",
   "execution_count": 2,
   "id": "b6badf04",
   "metadata": {},
   "outputs": [],
   "source": [
    "import re\n",
    "import seaborn as sb\n",
    "from scipy.spatial import distance\n",
    "from nltk.corpus import stopwords\n",
    "from matplotlib import pyplot as plt\n",
    "from sklearn.metrics.pairwise import cosine_similarity\n",
    "import nltk\n",
    "import pandas as pd\n",
    "from nltk.cluster import KMeansClusterer\n",
    "from scipy.spatial import distance_matrix\n",
    "import numpy as np\n",
    "import os\n",
    "import networkx as nx\n",
    "from sklearn.feature_extraction.text import TfidfVectorizer\n",
    "from heapq import nlargest\n",
    "from string import punctuation\n",
    "from nltk import word_tokenize\n",
    "from nltk.tokenize import sent_tokenize\n",
    "from evaluate import load\n",
    "from pathlib import Path\n",
    "# Load the ROUGE metric\n",
    "import evaluate\n",
    "punctuation = punctuation + '\\n' + '—' + '“' + ',' + '”' + '‘' + '-' + '’'"
   ]
  },
  {
   "cell_type": "code",
   "execution_count": 3,
   "id": "ac90c62f",
   "metadata": {},
   "outputs": [],
   "source": [
    "def extract(filepath):\n",
    "    pattern = r'(\\w+)/(\\d+)\\.txt$'\n",
    "    category, file_id = re.search(pattern, str(filepath)).groups()\n",
    "    with open(filepath, 'r', encoding='unicode_escape') as f:\n",
    "        text = f.read()\n",
    "        return category, file_id, text\n",
    "\n"
   ]
  },
  {
   "cell_type": "code",
   "execution_count": 4,
   "id": "0b6bfb56",
   "metadata": {},
   "outputs": [],
   "source": [
    "dataset_path = Path('/Users/sarahdarlyna/Downloads/BBC News Summary')"
   ]
  },
  {
   "cell_type": "code",
   "execution_count": 5,
   "id": "55f34593",
   "metadata": {},
   "outputs": [],
   "source": [
    "articles_data = list(map(extract, dataset_path.glob('News Articles/*/*.txt')))\n",
    "summaries_data = list(map(extract, dataset_path.glob('Summaries/*/*.txt')))\n",
    "\n",
    "articles_df = pd.DataFrame(articles_data, columns=('Category', 'ID', 'Article'))\n",
    "summaries_df = pd.DataFrame(summaries_data, columns=('Category', 'ID', 'Summary'))\n",
    "\n",
    "df = articles_df.merge(summaries_df, how='inner', on=('Category', 'ID'))"
   ]
  },
  {
   "cell_type": "markdown",
   "id": "68aff296",
   "metadata": {},
   "source": [
    "### 2. Dataset selection \n",
    "\n",
    "This section is used to convert a collection of txt files into a dataframe by using the library from pathlib.\n",
    "This dataset is collected from Kaggle, an online data sources that is widely used by data scientist and researchers worldwide. The dataset that was used for this research involves the BBC articles as well as its own generated summary. This dataset includes features that are useful for this project's research question as it includes its own generated summary to compare with this project's model generated summarization and to evaluate the accuracy score by using BLEU and ROGUE. Hence, to see whether there's an improvement towards the summary generated compare to original summary."
   ]
  },
  {
   "cell_type": "code",
   "execution_count": 6,
   "id": "3afdab7b",
   "metadata": {},
   "outputs": [
    {
     "name": "stdout",
     "output_type": "stream",
     "text": [
      "<class 'pandas.core.frame.DataFrame'>\n",
      "Int64Index: 2225 entries, 0 to 2224\n",
      "Data columns (total 4 columns):\n",
      " #   Column    Non-Null Count  Dtype \n",
      "---  ------    --------------  ----- \n",
      " 0   Category  2225 non-null   object\n",
      " 1   ID        2225 non-null   object\n",
      " 2   Article   2225 non-null   object\n",
      " 3   Summary   2225 non-null   object\n",
      "dtypes: object(4)\n",
      "memory usage: 86.9+ KB\n"
     ]
    }
   ],
   "source": [
    "df.info()"
   ]
  },
  {
   "cell_type": "markdown",
   "id": "8c469e1d",
   "metadata": {},
   "source": [
    "The dataset contains 4 features: 'Category', 'ID', 'Article' and 'Summary'.\n",
    "Furthermore, the number of rows are 2225."
   ]
  },
  {
   "cell_type": "code",
   "execution_count": 7,
   "id": "1ad88888",
   "metadata": {},
   "outputs": [
    {
     "data": {
      "text/html": [
       "<div>\n",
       "<style scoped>\n",
       "    .dataframe tbody tr th:only-of-type {\n",
       "        vertical-align: middle;\n",
       "    }\n",
       "\n",
       "    .dataframe tbody tr th {\n",
       "        vertical-align: top;\n",
       "    }\n",
       "\n",
       "    .dataframe thead th {\n",
       "        text-align: right;\n",
       "    }\n",
       "</style>\n",
       "<table border=\"1\" class=\"dataframe\">\n",
       "  <thead>\n",
       "    <tr style=\"text-align: right;\">\n",
       "      <th></th>\n",
       "      <th>Category</th>\n",
       "      <th>ID</th>\n",
       "      <th>Article</th>\n",
       "      <th>Summary</th>\n",
       "    </tr>\n",
       "  </thead>\n",
       "  <tbody>\n",
       "    <tr>\n",
       "      <th>0</th>\n",
       "      <td>entertainment</td>\n",
       "      <td>289</td>\n",
       "      <td>Musicians to tackle US red tape\\n\\nMusicians' ...</td>\n",
       "      <td>Nigel McCune from the Musicians' Union said Br...</td>\n",
       "    </tr>\n",
       "    <tr>\n",
       "      <th>1</th>\n",
       "      <td>entertainment</td>\n",
       "      <td>262</td>\n",
       "      <td>U2's desire to be number one\\n\\nU2, who have w...</td>\n",
       "      <td>But they still want more.They have to want to ...</td>\n",
       "    </tr>\n",
       "    <tr>\n",
       "      <th>2</th>\n",
       "      <td>entertainment</td>\n",
       "      <td>276</td>\n",
       "      <td>Rocker Doherty in on-stage fight\\n\\nRock singe...</td>\n",
       "      <td>Babyshambles, which he formed after his acrimo...</td>\n",
       "    </tr>\n",
       "    <tr>\n",
       "      <th>3</th>\n",
       "      <td>entertainment</td>\n",
       "      <td>060</td>\n",
       "      <td>Snicket tops US box office chart\\n\\nThe film a...</td>\n",
       "      <td>A Series of Unfortunate Events also stars Scot...</td>\n",
       "    </tr>\n",
       "    <tr>\n",
       "      <th>4</th>\n",
       "      <td>entertainment</td>\n",
       "      <td>074</td>\n",
       "      <td>Ocean's Twelve raids box office\\n\\nOcean's Twe...</td>\n",
       "      <td>Ocean's Twelve, the crime caper sequel starrin...</td>\n",
       "    </tr>\n",
       "  </tbody>\n",
       "</table>\n",
       "</div>"
      ],
      "text/plain": [
       "        Category   ID                                            Article  \\\n",
       "0  entertainment  289  Musicians to tackle US red tape\\n\\nMusicians' ...   \n",
       "1  entertainment  262  U2's desire to be number one\\n\\nU2, who have w...   \n",
       "2  entertainment  276  Rocker Doherty in on-stage fight\\n\\nRock singe...   \n",
       "3  entertainment  060  Snicket tops US box office chart\\n\\nThe film a...   \n",
       "4  entertainment  074  Ocean's Twelve raids box office\\n\\nOcean's Twe...   \n",
       "\n",
       "                                             Summary  \n",
       "0  Nigel McCune from the Musicians' Union said Br...  \n",
       "1  But they still want more.They have to want to ...  \n",
       "2  Babyshambles, which he formed after his acrimo...  \n",
       "3  A Series of Unfortunate Events also stars Scot...  \n",
       "4  Ocean's Twelve, the crime caper sequel starrin...  "
      ]
     },
     "execution_count": 7,
     "metadata": {},
     "output_type": "execute_result"
    }
   ],
   "source": [
    "df.head()"
   ]
  },
  {
   "cell_type": "markdown",
   "id": "288629e7",
   "metadata": {},
   "source": [
    "From the dataset above, article and summary will chosen to be used as train data as well as test data."
   ]
  },
  {
   "cell_type": "markdown",
   "id": "c98a11c9",
   "metadata": {},
   "source": [
    "#### 2.1 Train text and train summary"
   ]
  },
  {
   "cell_type": "code",
   "execution_count": 8,
   "id": "e29ac04e",
   "metadata": {},
   "outputs": [
    {
     "data": {
      "text/plain": [
       "'Musicians to tackle US red tape\\n\\nMusicians\\' groups are to tackle US visa regulations which are blamed for hindering British acts\\' chances of succeeding across the Atlantic.\\n\\nA singer hoping to perform in the US can expect to pay $1,300 (Â£680) simply for obtaining a visa. Groups including the Musicians\\' Union are calling for an end to the \"raw deal\" faced by British performers. US acts are not faced with comparable expense and bureaucracy when visiting the UK for promotional purposes.\\n\\nNigel McCune from the Musicians\\' Union said British musicians are \"disadvantaged\" compared to their US counterparts. A sponsor has to make a petition on their behalf, which is a form amounting to nearly 30 pages, while musicians face tougher regulations than athletes and journalists. \"If you make a mistake on your form, you risk a five-year ban and thus the ability to further your career,\" says Mr McCune.\\n\\n\"The US is the world\\'s biggest music market, which means something has to be done about the creaky bureaucracy,\" says Mr McCune. \"The current situation is preventing British acts from maintaining momentum and developing in the US,\" he added.\\n\\nThe Musicians\\' Union stance is being endorsed by the Music Managers\\' Forum (MMF), who say British artists face \"an uphill struggle\" to succeed in the US, thanks to the tough visa requirements, which are also seen as impractical. The MMF\\'s general secretary James Seller said: \"Imagine if you were an orchestra from the Orkneys? Every member would have to travel to London to have their visas processed.\"\\n\\n\"The US market is seen as the holy grail and one of the benchmarks of success, and we\\'re still going to fight to get in there. \"It\\'s still very important, but there are other markets like Europe, India and China,\" added Mr Seller. A Department for Media, Culture and Sport spokeswoman said: \"We\\'re aware that people are experiencing problems, and are working with the US embassy and record industry to see what we can do about it.\" A US Embassy spokesman said: \"We are aware that entertainers require visas for time-specific visas and are doing everything we can to process those applications speedily.\" \"We are aware of the importance of cultural exchange and we will do our best to facilitate that,\" he added.\\n'"
      ]
     },
     "execution_count": 8,
     "metadata": {},
     "output_type": "execute_result"
    }
   ],
   "source": [
    "train_text = df['Article'][0]\n",
    "train_text"
   ]
  },
  {
   "cell_type": "code",
   "execution_count": 9,
   "id": "44263068",
   "metadata": {},
   "outputs": [
    {
     "data": {
      "text/plain": [
       "'Nigel McCune from the Musicians\\' Union said British musicians are \"disadvantaged\" compared to their US counterparts.A US Embassy spokesman said: \"We are aware that entertainers require visas for time-specific visas and are doing everything we can to process those applications speedily.\"The Musicians\\' Union stance is being endorsed by the Music Managers\\' Forum (MMF), who say British artists face \"an uphill struggle\" to succeed in the US, thanks to the tough visa requirements, which are also seen as impractical.Musicians\\' groups are to tackle US visa regulations which are blamed for hindering British acts\\' chances of succeeding across the Atlantic.\"The US is the world\\'s biggest music market, which means something has to be done about the creaky bureaucracy,\" says Mr McCune.\"The current situation is preventing British acts from maintaining momentum and developing in the US,\" he added.A singer hoping to perform in the US can expect to pay $1,300 (Â£680) simply for obtaining a visa.'"
      ]
     },
     "execution_count": 9,
     "metadata": {},
     "output_type": "execute_result"
    }
   ],
   "source": [
    "train_summary = df['Summary'][0]\n",
    "train_summary"
   ]
  },
  {
   "cell_type": "markdown",
   "id": "85bb94cc",
   "metadata": {},
   "source": [
    "#### 2.2. Explarotary Data Analysis\n",
    "\n",
    "The EDA conducted is a brief visualization of the number of articles based on categories. From the countplot below, it concludes that the most common category of BBC articles are business and sport while entertainment the least content."
   ]
  },
  {
   "cell_type": "code",
   "execution_count": 10,
   "id": "e23f98d6",
   "metadata": {},
   "outputs": [
    {
     "data": {
      "text/plain": [
       "Text(0.5, 1.0, 'Category')"
      ]
     },
     "execution_count": 10,
     "metadata": {},
     "output_type": "execute_result"
    },
    {
     "data": {
      "image/png": "[encoded data removed]",
      "text/plain": [
       "<Figure size 2000x1500 with 1 Axes>"
      ]
     },
     "metadata": {},
     "output_type": "display_data"
    }
   ],
   "source": [
    "plt.figure(figsize = (20,15)) ##height 20, width 15\n",
    "sb.countplot(y = df.Category)\n",
    "plt.title(\"Category\", fontsize = 20)"
   ]
  },
  {
   "cell_type": "markdown",
   "id": "4906f5bc",
   "metadata": {},
   "source": [
    "### 3. Brief Pre-processing\n",
    "\n",
    "The pre-processing includes in this model is removing stopwords, expanding contraction word, tokenizing the text. Text summarization does not require an intensive pre-processing as it needs to retain the content of the text used to be train and generate a good summary. \n",
    "\n",
    "\n",
    "#### 3.1Tokenization\n",
    "In this step the document is divided into paragraphs, then the paragraphs into sentences, and finally the sentences into words.\n",
    "\n",
    "#### 3.2 Removing stopwords\n",
    "Removing stop words reduces the text to more useful words. And the non-removal affects the efficiency of the process of weighting.\n",
    "\n",
    "#### 3.3 Expand contraction list\n",
    "Contractions are words or combinations of words that are shortened by dropping letters and replacing them by an apostrophe. Removing contractions contributes to text standardization and helps in text summarization when it comes to rank important sentences in order to understand the context of the text."
   ]
  },
  {
   "cell_type": "code",
   "execution_count": 11,
   "id": "799c2d23",
   "metadata": {},
   "outputs": [],
   "source": [
    "contraction_list = {\"ain't\": \"is not\", \"aren't\": \"are not\",\"can't\": \"cannot\", \"'cause\": \"because\", \"could've\": \"could have\", \"couldn't\": \"could not\",\n",
    "\n",
    "                           \"didn't\": \"did not\", \"doesn't\": \"does not\", \"don't\": \"do not\", \"hadn't\": \"had not\", \"hasn't\": \"has not\", \"haven't\": \"have not\",\n",
    "\n",
    "                           \"he'd\": \"he would\",\"he'll\": \"he will\", \"he's\": \"he is\", \"how'd\": \"how did\", \"how'd'y\": \"how do you\", \"how'll\": \"how will\", \"how's\": \"how is\",\n",
    "\n",
    "                           \"I'd\": \"I would\", \"I'd've\": \"I would have\", \"I'll\": \"I will\", \"I'll've\": \"I will have\",\"I'm\": \"I am\", \"I've\": \"I have\", \"i'd\": \"i would\",\n",
    "\n",
    "                           \"i'd've\": \"i would have\", \"i'll\": \"i will\",  \"i'll've\": \"i will have\",\"i'm\": \"i am\", \"i've\": \"i have\", \"isn't\": \"is not\", \"it'd\": \"it would\",\n",
    "\n",
    "                           \"it'd've\": \"it would have\", \"it'll\": \"it will\", \"it'll've\": \"it will have\",\"it's\": \"it is\", \"let's\": \"let us\", \"ma'am\": \"madam\",\n",
    "\n",
    "                           \"mayn't\": \"may not\", \"might've\": \"might have\",\"mightn't\": \"might not\",\"mightn't've\": \"might not have\", \"must've\": \"must have\",\n",
    "\n",
    "                           \"mustn't\": \"must not\", \"mustn't've\": \"must not have\", \"needn't\": \"need not\", \"needn't've\": \"need not have\",\"o'clock\": \"of the clock\",\n",
    "\n",
    "                           \"oughtn't\": \"ought not\", \"oughtn't've\": \"ought not have\", \"shan't\": \"shall not\", \"sha'n't\": \"shall not\", \"shan't've\": \"shall not have\",\n",
    "\n",
    "                           \"she'd\": \"she would\", \"she'd've\": \"she would have\", \"she'll\": \"she will\", \"she'll've\": \"she will have\", \"she's\": \"she is\",\n",
    "\n",
    "                           \"should've\": \"should have\", \"shouldn't\": \"should not\", \"shouldn't've\": \"should not have\", \"so've\": \"so have\",\"so's\": \"so as\",\n",
    "\n",
    "                           \"this's\": \"this is\",\"that'd\": \"that would\", \"that'd've\": \"that would have\", \"that's\": \"that is\", \"there'd\": \"there would\",\n",
    "\n",
    "                           \"there'd've\": \"there would have\", \"there's\": \"there is\", \"here's\": \"here is\",\"they'd\": \"they would\", \"they'd've\": \"they would have\",\n",
    "\n",
    "                           \"they'll\": \"they will\", \"they'll've\": \"they will have\", \"they're\": \"they are\", \"they've\": \"they have\", \"to've\": \"to have\",\n",
    "\n",
    "                           \"wasn't\": \"was not\", \"we'd\": \"we would\", \"we'd've\": \"we would have\", \"we'll\": \"we will\", \"we'll've\": \"we will have\", \"we're\": \"we are\",\n",
    "\n",
    "                           \"we've\": \"we have\", \"weren't\": \"were not\", \"what'll\": \"what will\", \"what'll've\": \"what will have\", \"what're\": \"what are\",\n",
    "\n",
    "                           \"what's\": \"what is\", \"what've\": \"what have\", \"when's\": \"when is\", \"when've\": \"when have\", \"where'd\": \"where did\", \"where's\": \"where is\",\n",
    "\n",
    "                           \"where've\": \"where have\", \"who'll\": \"who will\", \"who'll've\": \"who will have\", \"who's\": \"who is\", \"who've\": \"who have\",\n",
    "\n",
    "                           \"why's\": \"why is\", \"why've\": \"why have\", \"will've\": \"will have\", \"won't\": \"will not\", \"won't've\": \"will not have\",\n",
    "\n",
    "                           \"would've\": \"would have\", \"wouldn't\": \"would not\", \"wouldn't've\": \"would not have\", \"y'all\": \"you all\",\n",
    "\n",
    "                           \"y'all'd\": \"you all would\",\"y'all'd've\": \"you all would have\",\"y'all're\": \"you all are\",\"y'all've\": \"you all have\",\n",
    "\n",
    "                           \"you'd\": \"you would\", \"you'd've\": \"you would have\", \"you'll\": \"you will\", \"you'll've\": \"you will have\",\n",
    "\n",
    "                           \"you're\": \"you are\", \"you've\": \"you have\"}"
   ]
  },
  {
   "cell_type": "code",
   "execution_count": 12,
   "id": "18653af3",
   "metadata": {},
   "outputs": [],
   "source": [
    "stop_words = set(stopwords.words('english'))"
   ]
  },
  {
   "cell_type": "code",
   "execution_count": 13,
   "id": "dae1b535",
   "metadata": {},
   "outputs": [],
   "source": [
    "def text_cleaner(text):\n",
    "    newString = ' '.join([contraction_list[t] if t in contraction_list else t for t in text.split(\" \")]) # the dictionary that we will use for expanding the contractions\n",
    "    \n",
    "    tokens = [w for w in newString.split() if not w in stop_words]\n",
    "    long_words = []\n",
    "    for i in tokens:\n",
    "        if len(i) >= 3:  # removing short word\n",
    "            long_words.append(i)\n",
    "    return (\" \".join(long_words)).strip()"
   ]
  },
  {
   "cell_type": "markdown",
   "id": "e02ecee2",
   "metadata": {},
   "source": [
    "This is the fuction for pre-processing texts. In this function includes removing stopwords and expanding the contraction list."
   ]
  },
  {
   "cell_type": "code",
   "execution_count": 14,
   "id": "a5ef5332",
   "metadata": {},
   "outputs": [],
   "source": [
    "def tokenize_text(txt):\n",
    "    \n",
    "    #tokenize text\n",
    "    sentences = nltk.sent_tokenize(txt)\n",
    "    \n",
    "    #to dataframe\n",
    "    data = pd.DataFrame()\n",
    "    data = pd.DataFrame(sentences)\n",
    "    data.columns=['sentence']\n",
    "    \n",
    "    return data\n",
    "\n",
    "def get_sentence_embeddings(sentence):\n",
    "    embedding = model.encode([sentence])\n",
    "    return embedding[0]\n"
   ]
  },
  {
   "cell_type": "markdown",
   "id": "a9adfb64",
   "metadata": {},
   "source": [
    "The functions above includes tokenizing the text and converting it into a dataframe for easier inspections. The second function is converting the tokenized text to its embedded vectors by using pre-trained model from SentenceTransformer."
   ]
  },
  {
   "cell_type": "code",
   "execution_count": 15,
   "id": "e783e1c7",
   "metadata": {},
   "outputs": [],
   "source": [
    "tt = text_cleaner(train_text)\n",
    "sentences=nltk.sent_tokenize(tt)"
   ]
  },
  {
   "cell_type": "code",
   "execution_count": 16,
   "id": "5294c0f4",
   "metadata": {},
   "outputs": [
    {
     "data": {
      "text/plain": [
       "[\"Musicians tackle red tape Musicians' groups tackle visa regulations blamed hindering British acts' chances succeeding across Atlantic.\",\n",
       " 'singer hoping perform expect pay $1,300 (Â£680) simply obtaining visa.',\n",
       " 'Groups including Musicians\\' Union calling end \"raw deal\" faced British performers.',\n",
       " 'acts faced comparable expense bureaucracy visiting promotional purposes.',\n",
       " 'Nigel McCune Musicians\\' Union said British musicians \"disadvantaged\" compared counterparts.',\n",
       " 'sponsor make petition behalf, form amounting nearly pages, musicians face tougher regulations athletes journalists.',\n",
       " '\"If make mistake form, risk five-year ban thus ability career,\" says McCune.',\n",
       " '\"The world\\'s biggest music market, means something done creaky bureaucracy,\" says McCune.',\n",
       " '\"The current situation preventing British acts maintaining momentum developing US,\" added.',\n",
       " 'The Musicians\\' Union stance endorsed Music Managers\\' Forum (MMF), say British artists face \"an uphill struggle\" succeed US, thanks tough visa requirements, also seen impractical.',\n",
       " 'The MMF\\'s general secretary James Seller said: \"Imagine orchestra Orkneys?',\n",
       " 'Every member would travel London visas processed.\"',\n",
       " '\"The market seen holy grail one benchmarks success, still going fight get there.',\n",
       " '\"It\\'s still important, markets like Europe, India China,\" added Seller.',\n",
       " 'Department Media, Culture Sport spokeswoman said: \"We\\'re aware people experiencing problems, working embassy record industry see it.\"',\n",
       " 'Embassy spokesman said: \"We aware entertainers require visas time-specific visas everything process applications speedily.\"',\n",
       " '\"We aware importance cultural exchange best facilitate that,\" added.']"
      ]
     },
     "execution_count": 16,
     "metadata": {},
     "output_type": "execute_result"
    }
   ],
   "source": [
    "sentences"
   ]
  },
  {
   "cell_type": "markdown",
   "id": "6482e698",
   "metadata": {},
   "source": [
    "Data will be tokenized into tokens based on the first punctuation before it will be convert into a dataframe as shows below."
   ]
  },
  {
   "cell_type": "markdown",
   "id": "0c6a978a",
   "metadata": {},
   "source": [
    "### 4. Feature engineering 1: Sentence embeddings using pre-trained model from SentenceTransformer"
   ]
  },
  {
   "cell_type": "markdown",
   "id": "066a8d46",
   "metadata": {},
   "source": [
    "Once the tokenized text is converted into a dataframe, each sentences on each tokens will be embedded to vectors for feature representation using a pre-trained model from SentenceTransformer.\n",
    "\n",
    "Word embeddings represent words as dense vectors in a continuous vector space. It captures semantic relationships between words."
   ]
  },
  {
   "cell_type": "code",
   "execution_count": 17,
   "id": "c583401a",
   "metadata": {},
   "outputs": [
    {
     "data": {
      "text/html": [
       "<div>\n",
       "<style scoped>\n",
       "    .dataframe tbody tr th:only-of-type {\n",
       "        vertical-align: middle;\n",
       "    }\n",
       "\n",
       "    .dataframe tbody tr th {\n",
       "        vertical-align: top;\n",
       "    }\n",
       "\n",
       "    .dataframe thead th {\n",
       "        text-align: right;\n",
       "    }\n",
       "</style>\n",
       "<table border=\"1\" class=\"dataframe\">\n",
       "  <thead>\n",
       "    <tr style=\"text-align: right;\">\n",
       "      <th></th>\n",
       "      <th>sentence</th>\n",
       "    </tr>\n",
       "  </thead>\n",
       "  <tbody>\n",
       "    <tr>\n",
       "      <th>0</th>\n",
       "      <td>Musicians tackle red tape Musicians' groups ta...</td>\n",
       "    </tr>\n",
       "    <tr>\n",
       "      <th>1</th>\n",
       "      <td>singer hoping perform expect pay $1,300 (Â£680...</td>\n",
       "    </tr>\n",
       "    <tr>\n",
       "      <th>2</th>\n",
       "      <td>Groups including Musicians' Union calling end ...</td>\n",
       "    </tr>\n",
       "    <tr>\n",
       "      <th>3</th>\n",
       "      <td>acts faced comparable expense bureaucracy visi...</td>\n",
       "    </tr>\n",
       "    <tr>\n",
       "      <th>4</th>\n",
       "      <td>Nigel McCune Musicians' Union said British mus...</td>\n",
       "    </tr>\n",
       "    <tr>\n",
       "      <th>5</th>\n",
       "      <td>sponsor make petition behalf, form amounting n...</td>\n",
       "    </tr>\n",
       "    <tr>\n",
       "      <th>6</th>\n",
       "      <td>\"If make mistake form, risk five-year ban thus...</td>\n",
       "    </tr>\n",
       "    <tr>\n",
       "      <th>7</th>\n",
       "      <td>\"The world's biggest music market, means somet...</td>\n",
       "    </tr>\n",
       "    <tr>\n",
       "      <th>8</th>\n",
       "      <td>\"The current situation preventing British acts...</td>\n",
       "    </tr>\n",
       "    <tr>\n",
       "      <th>9</th>\n",
       "      <td>The Musicians' Union stance endorsed Music Man...</td>\n",
       "    </tr>\n",
       "    <tr>\n",
       "      <th>10</th>\n",
       "      <td>The MMF's general secretary James Seller said:...</td>\n",
       "    </tr>\n",
       "    <tr>\n",
       "      <th>11</th>\n",
       "      <td>Every member would travel London visas process...</td>\n",
       "    </tr>\n",
       "    <tr>\n",
       "      <th>12</th>\n",
       "      <td>\"The market seen holy grail one benchmarks suc...</td>\n",
       "    </tr>\n",
       "    <tr>\n",
       "      <th>13</th>\n",
       "      <td>\"It's still important, markets like Europe, In...</td>\n",
       "    </tr>\n",
       "    <tr>\n",
       "      <th>14</th>\n",
       "      <td>Department Media, Culture Sport spokeswoman sa...</td>\n",
       "    </tr>\n",
       "    <tr>\n",
       "      <th>15</th>\n",
       "      <td>Embassy spokesman said: \"We aware entertainers...</td>\n",
       "    </tr>\n",
       "    <tr>\n",
       "      <th>16</th>\n",
       "      <td>\"We aware importance cultural exchange best fa...</td>\n",
       "    </tr>\n",
       "  </tbody>\n",
       "</table>\n",
       "</div>"
      ],
      "text/plain": [
       "                                             sentence\n",
       "0   Musicians tackle red tape Musicians' groups ta...\n",
       "1   singer hoping perform expect pay $1,300 (Â£680...\n",
       "2   Groups including Musicians' Union calling end ...\n",
       "3   acts faced comparable expense bureaucracy visi...\n",
       "4   Nigel McCune Musicians' Union said British mus...\n",
       "5   sponsor make petition behalf, form amounting n...\n",
       "6   \"If make mistake form, risk five-year ban thus...\n",
       "7   \"The world's biggest music market, means somet...\n",
       "8   \"The current situation preventing British acts...\n",
       "9   The Musicians' Union stance endorsed Music Man...\n",
       "10  The MMF's general secretary James Seller said:...\n",
       "11  Every member would travel London visas process...\n",
       "12  \"The market seen holy grail one benchmarks suc...\n",
       "13  \"It's still important, markets like Europe, In...\n",
       "14  Department Media, Culture Sport spokeswoman sa...\n",
       "15  Embassy spokesman said: \"We aware entertainers...\n",
       "16  \"We aware importance cultural exchange best fa..."
      ]
     },
     "execution_count": 17,
     "metadata": {},
     "output_type": "execute_result"
    }
   ],
   "source": [
    "data = tokenize_text(tt)\n",
    "data"
   ]
  },
  {
   "cell_type": "code",
   "execution_count": 18,
   "id": "569864fe",
   "metadata": {},
   "outputs": [],
   "source": [
    "data['embeddings'] = data['sentence'].apply(get_sentence_embeddings)"
   ]
  },
  {
   "cell_type": "code",
   "execution_count": 19,
   "id": "8b389878",
   "metadata": {},
   "outputs": [
    {
     "data": {
      "text/html": [
       "<div>\n",
       "<style scoped>\n",
       "    .dataframe tbody tr th:only-of-type {\n",
       "        vertical-align: middle;\n",
       "    }\n",
       "\n",
       "    .dataframe tbody tr th {\n",
       "        vertical-align: top;\n",
       "    }\n",
       "\n",
       "    .dataframe thead th {\n",
       "        text-align: right;\n",
       "    }\n",
       "</style>\n",
       "<table border=\"1\" class=\"dataframe\">\n",
       "  <thead>\n",
       "    <tr style=\"text-align: right;\">\n",
       "      <th></th>\n",
       "      <th>sentence</th>\n",
       "      <th>embeddings</th>\n",
       "    </tr>\n",
       "  </thead>\n",
       "  <tbody>\n",
       "    <tr>\n",
       "      <th>0</th>\n",
       "      <td>Musicians tackle red tape Musicians' groups ta...</td>\n",
       "      <td>[0.047034286, -0.05700698, 0.03200802, -0.0207...</td>\n",
       "    </tr>\n",
       "    <tr>\n",
       "      <th>1</th>\n",
       "      <td>singer hoping perform expect pay $1,300 (Â£680...</td>\n",
       "      <td>[0.028535979, -0.0113964835, 0.027407581, -0.0...</td>\n",
       "    </tr>\n",
       "    <tr>\n",
       "      <th>2</th>\n",
       "      <td>Groups including Musicians' Union calling end ...</td>\n",
       "      <td>[-0.0038289719, -0.054160986, 0.00022078159, -...</td>\n",
       "    </tr>\n",
       "    <tr>\n",
       "      <th>3</th>\n",
       "      <td>acts faced comparable expense bureaucracy visi...</td>\n",
       "      <td>[0.0132861715, 0.021861676, -0.012200599, -0.0...</td>\n",
       "    </tr>\n",
       "    <tr>\n",
       "      <th>4</th>\n",
       "      <td>Nigel McCune Musicians' Union said British mus...</td>\n",
       "      <td>[0.11587219, -0.0411896, 0.014607726, -0.05767...</td>\n",
       "    </tr>\n",
       "    <tr>\n",
       "      <th>5</th>\n",
       "      <td>sponsor make petition behalf, form amounting n...</td>\n",
       "      <td>[0.027503742, 0.0531638, 0.029745325, -0.09349...</td>\n",
       "    </tr>\n",
       "    <tr>\n",
       "      <th>6</th>\n",
       "      <td>\"If make mistake form, risk five-year ban thus...</td>\n",
       "      <td>[-0.074412145, 0.037071213, 0.058321945, -0.03...</td>\n",
       "    </tr>\n",
       "    <tr>\n",
       "      <th>7</th>\n",
       "      <td>\"The world's biggest music market, means somet...</td>\n",
       "      <td>[0.06626549, -0.037928533, 0.033051696, -0.049...</td>\n",
       "    </tr>\n",
       "    <tr>\n",
       "      <th>8</th>\n",
       "      <td>\"The current situation preventing British acts...</td>\n",
       "      <td>[0.012769175, -0.043569244, 0.03420545, -0.051...</td>\n",
       "    </tr>\n",
       "    <tr>\n",
       "      <th>9</th>\n",
       "      <td>The Musicians' Union stance endorsed Music Man...</td>\n",
       "      <td>[0.05617586, -0.103920616, -0.022874556, -0.04...</td>\n",
       "    </tr>\n",
       "    <tr>\n",
       "      <th>10</th>\n",
       "      <td>The MMF's general secretary James Seller said:...</td>\n",
       "      <td>[0.02145714, -0.009062099, 0.011480432, -0.003...</td>\n",
       "    </tr>\n",
       "    <tr>\n",
       "      <th>11</th>\n",
       "      <td>Every member would travel London visas process...</td>\n",
       "      <td>[0.07583036, -0.04068549, 0.042486392, -0.0376...</td>\n",
       "    </tr>\n",
       "    <tr>\n",
       "      <th>12</th>\n",
       "      <td>\"The market seen holy grail one benchmarks suc...</td>\n",
       "      <td>[-0.015399684, -0.0066603725, -0.069707856, -0...</td>\n",
       "    </tr>\n",
       "    <tr>\n",
       "      <th>13</th>\n",
       "      <td>\"It's still important, markets like Europe, In...</td>\n",
       "      <td>[-0.01389575, 0.07359261, -0.014101669, 0.0174...</td>\n",
       "    </tr>\n",
       "    <tr>\n",
       "      <th>14</th>\n",
       "      <td>Department Media, Culture Sport spokeswoman sa...</td>\n",
       "      <td>[0.011227119, 0.05310617, -0.033743624, -0.060...</td>\n",
       "    </tr>\n",
       "    <tr>\n",
       "      <th>15</th>\n",
       "      <td>Embassy spokesman said: \"We aware entertainers...</td>\n",
       "      <td>[0.098903045, -0.015526229, -0.015405643, -0.0...</td>\n",
       "    </tr>\n",
       "    <tr>\n",
       "      <th>16</th>\n",
       "      <td>\"We aware importance cultural exchange best fa...</td>\n",
       "      <td>[0.048837505, 0.03931426, -0.021564253, -0.001...</td>\n",
       "    </tr>\n",
       "  </tbody>\n",
       "</table>\n",
       "</div>"
      ],
      "text/plain": [
       "                                             sentence  \\\n",
       "0   Musicians tackle red tape Musicians' groups ta...   \n",
       "1   singer hoping perform expect pay $1,300 (Â£680...   \n",
       "2   Groups including Musicians' Union calling end ...   \n",
       "3   acts faced comparable expense bureaucracy visi...   \n",
       "4   Nigel McCune Musicians' Union said British mus...   \n",
       "5   sponsor make petition behalf, form amounting n...   \n",
       "6   \"If make mistake form, risk five-year ban thus...   \n",
       "7   \"The world's biggest music market, means somet...   \n",
       "8   \"The current situation preventing British acts...   \n",
       "9   The Musicians' Union stance endorsed Music Man...   \n",
       "10  The MMF's general secretary James Seller said:...   \n",
       "11  Every member would travel London visas process...   \n",
       "12  \"The market seen holy grail one benchmarks suc...   \n",
       "13  \"It's still important, markets like Europe, In...   \n",
       "14  Department Media, Culture Sport spokeswoman sa...   \n",
       "15  Embassy spokesman said: \"We aware entertainers...   \n",
       "16  \"We aware importance cultural exchange best fa...   \n",
       "\n",
       "                                           embeddings  \n",
       "0   [0.047034286, -0.05700698, 0.03200802, -0.0207...  \n",
       "1   [0.028535979, -0.0113964835, 0.027407581, -0.0...  \n",
       "2   [-0.0038289719, -0.054160986, 0.00022078159, -...  \n",
       "3   [0.0132861715, 0.021861676, -0.012200599, -0.0...  \n",
       "4   [0.11587219, -0.0411896, 0.014607726, -0.05767...  \n",
       "5   [0.027503742, 0.0531638, 0.029745325, -0.09349...  \n",
       "6   [-0.074412145, 0.037071213, 0.058321945, -0.03...  \n",
       "7   [0.06626549, -0.037928533, 0.033051696, -0.049...  \n",
       "8   [0.012769175, -0.043569244, 0.03420545, -0.051...  \n",
       "9   [0.05617586, -0.103920616, -0.022874556, -0.04...  \n",
       "10  [0.02145714, -0.009062099, 0.011480432, -0.003...  \n",
       "11  [0.07583036, -0.04068549, 0.042486392, -0.0376...  \n",
       "12  [-0.015399684, -0.0066603725, -0.069707856, -0...  \n",
       "13  [-0.01389575, 0.07359261, -0.014101669, 0.0174...  \n",
       "14  [0.011227119, 0.05310617, -0.033743624, -0.060...  \n",
       "15  [0.098903045, -0.015526229, -0.015405643, -0.0...  \n",
       "16  [0.048837505, 0.03931426, -0.021564253, -0.001...  "
      ]
     },
     "execution_count": 19,
     "metadata": {},
     "output_type": "execute_result"
    }
   ],
   "source": [
    "data"
   ]
  },
  {
   "cell_type": "markdown",
   "id": "e58d4964",
   "metadata": {},
   "source": [
    "Each tokens of sentences will have its embeddings (word representation) using the pre-trained model from SentenceTransformer called All-Mini which each words in each tokens will have its vectors. These embeddings will be used for the K-Means Clustering model to find its clusters, centroids and the distance between centroids before ranking it for summarization."
   ]
  },
  {
   "cell_type": "markdown",
   "id": "da57cbde",
   "metadata": {},
   "source": [
    "### 5.1 Apply K-means clustering (Model 1)"
   ]
  },
  {
   "cell_type": "markdown",
   "id": "53096b2f",
   "metadata": {},
   "source": [
    "K-Means Clusterer is a clustering algorithm commonly used for grouping similar data points into clusters. In the context of text summarization, K-Means can be applied to group sentences or documents into clusters based on their content similarity. The idea is to identify representative sentences from each cluster to form a concise summary.\n",
    "\n",
    "By using cluster of 10, the data from pre-processing will be converted to a list before being fitted into the KMeansClusterer model.\n",
    "\n",
    "Furthermore, clusters will be assigned afterwards based on their embeddings and two new columns 'cluster' and 'centroid' will be created as a part of the data dataframe."
   ]
  },
  {
   "cell_type": "code",
   "execution_count": 20,
   "id": "4fde2ee7",
   "metadata": {},
   "outputs": [],
   "source": [
    "NUM_CLUSTERS = 10"
   ]
  },
  {
   "cell_type": "code",
   "execution_count": 21,
   "id": "11b67e2e",
   "metadata": {},
   "outputs": [],
   "source": [
    "from sklearn.metrics import silhouette_score\n",
    "NUM_CLUSTERS=10\n",
    "\n",
    "data_kmean = data\n",
    "\n",
    "X = np.array(data_kmean['embeddings'].tolist())\n",
    "\n",
    "kclusterer = KMeansClusterer(\n",
    "    NUM_CLUSTERS, distance=nltk.cluster.util.cosine_distance,\n",
    "    repeats=25,avoid_empty_clusters=True)\n",
    "\n",
    "assigned_clusters = kclusterer.cluster(X, assign_clusters=True)\n"
   ]
  },
  {
   "cell_type": "code",
   "execution_count": 22,
   "id": "01cc5ebf",
   "metadata": {},
   "outputs": [],
   "source": [
    "data_kmean['cluster'] = pd.Series(assigned_clusters, index=data.index)\n",
    "data_kmean['centroid'] = data_kmean['cluster'].apply(lambda x: kclusterer.means()[x])"
   ]
  },
  {
   "cell_type": "code",
   "execution_count": 23,
   "id": "8a6dfe38",
   "metadata": {},
   "outputs": [
    {
     "data": {
      "text/html": [
       "<div>\n",
       "<style scoped>\n",
       "    .dataframe tbody tr th:only-of-type {\n",
       "        vertical-align: middle;\n",
       "    }\n",
       "\n",
       "    .dataframe tbody tr th {\n",
       "        vertical-align: top;\n",
       "    }\n",
       "\n",
       "    .dataframe thead th {\n",
       "        text-align: right;\n",
       "    }\n",
       "</style>\n",
       "<table border=\"1\" class=\"dataframe\">\n",
       "  <thead>\n",
       "    <tr style=\"text-align: right;\">\n",
       "      <th></th>\n",
       "      <th>sentence</th>\n",
       "      <th>embeddings</th>\n",
       "      <th>cluster</th>\n",
       "      <th>centroid</th>\n",
       "    </tr>\n",
       "  </thead>\n",
       "  <tbody>\n",
       "    <tr>\n",
       "      <th>0</th>\n",
       "      <td>Musicians tackle red tape Musicians' groups ta...</td>\n",
       "      <td>[0.047034286, -0.05700698, 0.03200802, -0.0207...</td>\n",
       "      <td>9</td>\n",
       "      <td>[0.047034286, -0.05700698, 0.03200802, -0.0207...</td>\n",
       "    </tr>\n",
       "    <tr>\n",
       "      <th>1</th>\n",
       "      <td>singer hoping perform expect pay $1,300 (Â£680...</td>\n",
       "      <td>[0.028535979, -0.0113964835, 0.027407581, -0.0...</td>\n",
       "      <td>8</td>\n",
       "      <td>[0.04236224, -0.0576797, 0.0022550162, -0.0302...</td>\n",
       "    </tr>\n",
       "    <tr>\n",
       "      <th>2</th>\n",
       "      <td>Groups including Musicians' Union calling end ...</td>\n",
       "      <td>[-0.0038289719, -0.054160986, 0.00022078159, -...</td>\n",
       "      <td>2</td>\n",
       "      <td>[0.055994242, -0.04767826, 0.0074109645, -0.03...</td>\n",
       "    </tr>\n",
       "    <tr>\n",
       "      <th>3</th>\n",
       "      <td>acts faced comparable expense bureaucracy visi...</td>\n",
       "      <td>[0.0132861715, 0.021861676, -0.012200599, -0.0...</td>\n",
       "      <td>6</td>\n",
       "      <td>[0.0132861715, 0.021861676, -0.012200599, -0.0...</td>\n",
       "    </tr>\n",
       "    <tr>\n",
       "      <th>4</th>\n",
       "      <td>Nigel McCune Musicians' Union said British mus...</td>\n",
       "      <td>[0.11587219, -0.0411896, 0.014607726, -0.05767...</td>\n",
       "      <td>2</td>\n",
       "      <td>[0.055994242, -0.04767826, 0.0074109645, -0.03...</td>\n",
       "    </tr>\n",
       "    <tr>\n",
       "      <th>5</th>\n",
       "      <td>sponsor make petition behalf, form amounting n...</td>\n",
       "      <td>[0.027503742, 0.0531638, 0.029745325, -0.09349...</td>\n",
       "      <td>7</td>\n",
       "      <td>[0.019369151, 0.053134996, -0.0019846342, -0.0...</td>\n",
       "    </tr>\n",
       "    <tr>\n",
       "      <th>6</th>\n",
       "      <td>\"If make mistake form, risk five-year ban thus...</td>\n",
       "      <td>[-0.074412145, 0.037071213, 0.058321945, -0.03...</td>\n",
       "      <td>5</td>\n",
       "      <td>[-0.004041163, -0.00044580674, 0.045681044, -0...</td>\n",
       "    </tr>\n",
       "    <tr>\n",
       "      <th>7</th>\n",
       "      <td>\"The world's biggest music market, means somet...</td>\n",
       "      <td>[0.06626549, -0.037928533, 0.033051696, -0.049...</td>\n",
       "      <td>5</td>\n",
       "      <td>[-0.004041163, -0.00044580674, 0.045681044, -0...</td>\n",
       "    </tr>\n",
       "    <tr>\n",
       "      <th>8</th>\n",
       "      <td>\"The current situation preventing British acts...</td>\n",
       "      <td>[0.012769175, -0.043569244, 0.03420545, -0.051...</td>\n",
       "      <td>0</td>\n",
       "      <td>[0.012769175, -0.043569244, 0.03420545, -0.051...</td>\n",
       "    </tr>\n",
       "    <tr>\n",
       "      <th>9</th>\n",
       "      <td>The Musicians' Union stance endorsed Music Man...</td>\n",
       "      <td>[0.05617586, -0.103920616, -0.022874556, -0.04...</td>\n",
       "      <td>8</td>\n",
       "      <td>[0.04236224, -0.0576797, 0.0022550162, -0.0302...</td>\n",
       "    </tr>\n",
       "    <tr>\n",
       "      <th>10</th>\n",
       "      <td>The MMF's general secretary James Seller said:...</td>\n",
       "      <td>[0.02145714, -0.009062099, 0.011480432, -0.003...</td>\n",
       "      <td>3</td>\n",
       "      <td>[0.02145714, -0.009062099, 0.011480432, -0.003...</td>\n",
       "    </tr>\n",
       "    <tr>\n",
       "      <th>11</th>\n",
       "      <td>Every member would travel London visas process...</td>\n",
       "      <td>[0.07583036, -0.04068549, 0.042486392, -0.0376...</td>\n",
       "      <td>4</td>\n",
       "      <td>[0.08736143, -0.028111612, 0.013553609, -0.060...</td>\n",
       "    </tr>\n",
       "    <tr>\n",
       "      <th>12</th>\n",
       "      <td>\"The market seen holy grail one benchmarks suc...</td>\n",
       "      <td>[-0.015399684, -0.0066603725, -0.069707856, -0...</td>\n",
       "      <td>1</td>\n",
       "      <td>[0.006512778, 0.03541783, -0.03512331, 0.00297...</td>\n",
       "    </tr>\n",
       "    <tr>\n",
       "      <th>13</th>\n",
       "      <td>\"It's still important, markets like Europe, In...</td>\n",
       "      <td>[-0.01389575, 0.07359261, -0.014101669, 0.0174...</td>\n",
       "      <td>1</td>\n",
       "      <td>[0.006512778, 0.03541783, -0.03512331, 0.00297...</td>\n",
       "    </tr>\n",
       "    <tr>\n",
       "      <th>14</th>\n",
       "      <td>Department Media, Culture Sport spokeswoman sa...</td>\n",
       "      <td>[0.011227119, 0.05310617, -0.033743624, -0.060...</td>\n",
       "      <td>7</td>\n",
       "      <td>[0.019369151, 0.053134996, -0.0019846342, -0.0...</td>\n",
       "    </tr>\n",
       "    <tr>\n",
       "      <th>15</th>\n",
       "      <td>Embassy spokesman said: \"We aware entertainers...</td>\n",
       "      <td>[0.098903045, -0.015526229, -0.015405643, -0.0...</td>\n",
       "      <td>4</td>\n",
       "      <td>[0.08736143, -0.028111612, 0.013553609, -0.060...</td>\n",
       "    </tr>\n",
       "    <tr>\n",
       "      <th>16</th>\n",
       "      <td>\"We aware importance cultural exchange best fa...</td>\n",
       "      <td>[0.048837505, 0.03931426, -0.021564253, -0.001...</td>\n",
       "      <td>1</td>\n",
       "      <td>[0.006512778, 0.03541783, -0.03512331, 0.00297...</td>\n",
       "    </tr>\n",
       "  </tbody>\n",
       "</table>\n",
       "</div>"
      ],
      "text/plain": [
       "                                             sentence  \\\n",
       "0   Musicians tackle red tape Musicians' groups ta...   \n",
       "1   singer hoping perform expect pay $1,300 (Â£680...   \n",
       "2   Groups including Musicians' Union calling end ...   \n",
       "3   acts faced comparable expense bureaucracy visi...   \n",
       "4   Nigel McCune Musicians' Union said British mus...   \n",
       "5   sponsor make petition behalf, form amounting n...   \n",
       "6   \"If make mistake form, risk five-year ban thus...   \n",
       "7   \"The world's biggest music market, means somet...   \n",
       "8   \"The current situation preventing British acts...   \n",
       "9   The Musicians' Union stance endorsed Music Man...   \n",
       "10  The MMF's general secretary James Seller said:...   \n",
       "11  Every member would travel London visas process...   \n",
       "12  \"The market seen holy grail one benchmarks suc...   \n",
       "13  \"It's still important, markets like Europe, In...   \n",
       "14  Department Media, Culture Sport spokeswoman sa...   \n",
       "15  Embassy spokesman said: \"We aware entertainers...   \n",
       "16  \"We aware importance cultural exchange best fa...   \n",
       "\n",
       "                                           embeddings  cluster  \\\n",
       "0   [0.047034286, -0.05700698, 0.03200802, -0.0207...        9   \n",
       "1   [0.028535979, -0.0113964835, 0.027407581, -0.0...        8   \n",
       "2   [-0.0038289719, -0.054160986, 0.00022078159, -...        2   \n",
       "3   [0.0132861715, 0.021861676, -0.012200599, -0.0...        6   \n",
       "4   [0.11587219, -0.0411896, 0.014607726, -0.05767...        2   \n",
       "5   [0.027503742, 0.0531638, 0.029745325, -0.09349...        7   \n",
       "6   [-0.074412145, 0.037071213, 0.058321945, -0.03...        5   \n",
       "7   [0.06626549, -0.037928533, 0.033051696, -0.049...        5   \n",
       "8   [0.012769175, -0.043569244, 0.03420545, -0.051...        0   \n",
       "9   [0.05617586, -0.103920616, -0.022874556, -0.04...        8   \n",
       "10  [0.02145714, -0.009062099, 0.011480432, -0.003...        3   \n",
       "11  [0.07583036, -0.04068549, 0.042486392, -0.0376...        4   \n",
       "12  [-0.015399684, -0.0066603725, -0.069707856, -0...        1   \n",
       "13  [-0.01389575, 0.07359261, -0.014101669, 0.0174...        1   \n",
       "14  [0.011227119, 0.05310617, -0.033743624, -0.060...        7   \n",
       "15  [0.098903045, -0.015526229, -0.015405643, -0.0...        4   \n",
       "16  [0.048837505, 0.03931426, -0.021564253, -0.001...        1   \n",
       "\n",
       "                                             centroid  \n",
       "0   [0.047034286, -0.05700698, 0.03200802, -0.0207...  \n",
       "1   [0.04236224, -0.0576797, 0.0022550162, -0.0302...  \n",
       "2   [0.055994242, -0.04767826, 0.0074109645, -0.03...  \n",
       "3   [0.0132861715, 0.021861676, -0.012200599, -0.0...  \n",
       "4   [0.055994242, -0.04767826, 0.0074109645, -0.03...  \n",
       "5   [0.019369151, 0.053134996, -0.0019846342, -0.0...  \n",
       "6   [-0.004041163, -0.00044580674, 0.045681044, -0...  \n",
       "7   [-0.004041163, -0.00044580674, 0.045681044, -0...  \n",
       "8   [0.012769175, -0.043569244, 0.03420545, -0.051...  \n",
       "9   [0.04236224, -0.0576797, 0.0022550162, -0.0302...  \n",
       "10  [0.02145714, -0.009062099, 0.011480432, -0.003...  \n",
       "11  [0.08736143, -0.028111612, 0.013553609, -0.060...  \n",
       "12  [0.006512778, 0.03541783, -0.03512331, 0.00297...  \n",
       "13  [0.006512778, 0.03541783, -0.03512331, 0.00297...  \n",
       "14  [0.019369151, 0.053134996, -0.0019846342, -0.0...  \n",
       "15  [0.08736143, -0.028111612, 0.013553609, -0.060...  \n",
       "16  [0.006512778, 0.03541783, -0.03512331, 0.00297...  "
      ]
     },
     "execution_count": 23,
     "metadata": {},
     "output_type": "execute_result"
    }
   ],
   "source": [
    "data_kmean"
   ]
  },
  {
   "cell_type": "markdown",
   "id": "c211c29e",
   "metadata": {},
   "source": [
    "#### 5.1.1 Distance from centroids\n",
    "\n",
    "Each centroid calculated for each clusters will be used to calculate the distance from centroid."
   ]
  },
  {
   "cell_type": "code",
   "execution_count": 24,
   "id": "d3440ba9",
   "metadata": {},
   "outputs": [],
   "source": [
    "def distance_from_centroid(row):\n",
    "    # type of emb and centroid is different, hence using tolist below\n",
    "    return distance_matrix([row['embeddings']], [row['centroid'].tolist()])[0][0]\n",
    "\n",
    "# Compute centroid distance to the data\n",
    "data_kmean['distance_from_centroid'] = data_kmean.apply(distance_from_centroid, axis=1)"
   ]
  },
  {
   "cell_type": "code",
   "execution_count": 25,
   "id": "f6a1037f",
   "metadata": {},
   "outputs": [
    {
     "data": {
      "text/html": [
       "<div>\n",
       "<style scoped>\n",
       "    .dataframe tbody tr th:only-of-type {\n",
       "        vertical-align: middle;\n",
       "    }\n",
       "\n",
       "    .dataframe tbody tr th {\n",
       "        vertical-align: top;\n",
       "    }\n",
       "\n",
       "    .dataframe thead th {\n",
       "        text-align: right;\n",
       "    }\n",
       "</style>\n",
       "<table border=\"1\" class=\"dataframe\">\n",
       "  <thead>\n",
       "    <tr style=\"text-align: right;\">\n",
       "      <th></th>\n",
       "      <th>sentence</th>\n",
       "      <th>embeddings</th>\n",
       "      <th>cluster</th>\n",
       "      <th>centroid</th>\n",
       "      <th>distance_from_centroid</th>\n",
       "    </tr>\n",
       "  </thead>\n",
       "  <tbody>\n",
       "    <tr>\n",
       "      <th>0</th>\n",
       "      <td>Musicians tackle red tape Musicians' groups ta...</td>\n",
       "      <td>[0.047034286, -0.05700698, 0.03200802, -0.0207...</td>\n",
       "      <td>9</td>\n",
       "      <td>[0.047034286, -0.05700698, 0.03200802, -0.0207...</td>\n",
       "      <td>0.000000</td>\n",
       "    </tr>\n",
       "    <tr>\n",
       "      <th>1</th>\n",
       "      <td>singer hoping perform expect pay $1,300 (Â£680...</td>\n",
       "      <td>[0.028535979, -0.0113964835, 0.027407581, -0.0...</td>\n",
       "      <td>8</td>\n",
       "      <td>[0.04236224, -0.0576797, 0.0022550162, -0.0302...</td>\n",
       "      <td>0.575672</td>\n",
       "    </tr>\n",
       "    <tr>\n",
       "      <th>2</th>\n",
       "      <td>Groups including Musicians' Union calling end ...</td>\n",
       "      <td>[-0.0038289719, -0.054160986, 0.00022078159, -...</td>\n",
       "      <td>2</td>\n",
       "      <td>[0.055994242, -0.04767826, 0.0074109645, -0.03...</td>\n",
       "      <td>0.499820</td>\n",
       "    </tr>\n",
       "    <tr>\n",
       "      <th>3</th>\n",
       "      <td>acts faced comparable expense bureaucracy visi...</td>\n",
       "      <td>[0.0132861715, 0.021861676, -0.012200599, -0.0...</td>\n",
       "      <td>6</td>\n",
       "      <td>[0.0132861715, 0.021861676, -0.012200599, -0.0...</td>\n",
       "      <td>0.000000</td>\n",
       "    </tr>\n",
       "    <tr>\n",
       "      <th>4</th>\n",
       "      <td>Nigel McCune Musicians' Union said British mus...</td>\n",
       "      <td>[0.11587219, -0.0411896, 0.014607726, -0.05767...</td>\n",
       "      <td>2</td>\n",
       "      <td>[0.055994242, -0.04767826, 0.0074109645, -0.03...</td>\n",
       "      <td>0.500277</td>\n",
       "    </tr>\n",
       "    <tr>\n",
       "      <th>5</th>\n",
       "      <td>sponsor make petition behalf, form amounting n...</td>\n",
       "      <td>[0.027503742, 0.0531638, 0.029745325, -0.09349...</td>\n",
       "      <td>7</td>\n",
       "      <td>[0.019369151, 0.053134996, -0.0019846342, -0.0...</td>\n",
       "      <td>0.548777</td>\n",
       "    </tr>\n",
       "    <tr>\n",
       "      <th>6</th>\n",
       "      <td>\"If make mistake form, risk five-year ban thus...</td>\n",
       "      <td>[-0.074412145, 0.037071213, 0.058321945, -0.03...</td>\n",
       "      <td>5</td>\n",
       "      <td>[-0.004041163, -0.00044580674, 0.045681044, -0...</td>\n",
       "      <td>0.572595</td>\n",
       "    </tr>\n",
       "    <tr>\n",
       "      <th>7</th>\n",
       "      <td>\"The world's biggest music market, means somet...</td>\n",
       "      <td>[0.06626549, -0.037928533, 0.033051696, -0.049...</td>\n",
       "      <td>5</td>\n",
       "      <td>[-0.004041163, -0.00044580674, 0.045681044, -0...</td>\n",
       "      <td>0.572072</td>\n",
       "    </tr>\n",
       "    <tr>\n",
       "      <th>8</th>\n",
       "      <td>\"The current situation preventing British acts...</td>\n",
       "      <td>[0.012769175, -0.043569244, 0.03420545, -0.051...</td>\n",
       "      <td>0</td>\n",
       "      <td>[0.012769175, -0.043569244, 0.03420545, -0.051...</td>\n",
       "      <td>0.000000</td>\n",
       "    </tr>\n",
       "    <tr>\n",
       "      <th>9</th>\n",
       "      <td>The Musicians' Union stance endorsed Music Man...</td>\n",
       "      <td>[0.05617586, -0.103920616, -0.022874556, -0.04...</td>\n",
       "      <td>8</td>\n",
       "      <td>[0.04236224, -0.0576797, 0.0022550162, -0.0302...</td>\n",
       "      <td>0.575146</td>\n",
       "    </tr>\n",
       "    <tr>\n",
       "      <th>10</th>\n",
       "      <td>The MMF's general secretary James Seller said:...</td>\n",
       "      <td>[0.02145714, -0.009062099, 0.011480432, -0.003...</td>\n",
       "      <td>3</td>\n",
       "      <td>[0.02145714, -0.009062099, 0.011480432, -0.003...</td>\n",
       "      <td>0.000000</td>\n",
       "    </tr>\n",
       "    <tr>\n",
       "      <th>11</th>\n",
       "      <td>Every member would travel London visas process...</td>\n",
       "      <td>[0.07583036, -0.04068549, 0.042486392, -0.0376...</td>\n",
       "      <td>4</td>\n",
       "      <td>[0.08736143, -0.028111612, 0.013553609, -0.060...</td>\n",
       "      <td>0.532496</td>\n",
       "    </tr>\n",
       "    <tr>\n",
       "      <th>12</th>\n",
       "      <td>\"The market seen holy grail one benchmarks suc...</td>\n",
       "      <td>[-0.015399684, -0.0066603725, -0.069707856, -0...</td>\n",
       "      <td>1</td>\n",
       "      <td>[0.006512778, 0.03541783, -0.03512331, 0.00297...</td>\n",
       "      <td>0.740372</td>\n",
       "    </tr>\n",
       "    <tr>\n",
       "      <th>13</th>\n",
       "      <td>\"It's still important, markets like Europe, In...</td>\n",
       "      <td>[-0.01389575, 0.07359261, -0.014101669, 0.0174...</td>\n",
       "      <td>1</td>\n",
       "      <td>[0.006512778, 0.03541783, -0.03512331, 0.00297...</td>\n",
       "      <td>0.573865</td>\n",
       "    </tr>\n",
       "    <tr>\n",
       "      <th>14</th>\n",
       "      <td>Department Media, Culture Sport spokeswoman sa...</td>\n",
       "      <td>[0.011227119, 0.05310617, -0.033743624, -0.060...</td>\n",
       "      <td>7</td>\n",
       "      <td>[0.019369151, 0.053134996, -0.0019846342, -0.0...</td>\n",
       "      <td>0.549279</td>\n",
       "    </tr>\n",
       "    <tr>\n",
       "      <th>15</th>\n",
       "      <td>Embassy spokesman said: \"We aware entertainers...</td>\n",
       "      <td>[0.098903045, -0.015526229, -0.015405643, -0.0...</td>\n",
       "      <td>4</td>\n",
       "      <td>[0.08736143, -0.028111612, 0.013553609, -0.060...</td>\n",
       "      <td>0.532984</td>\n",
       "    </tr>\n",
       "    <tr>\n",
       "      <th>16</th>\n",
       "      <td>\"We aware importance cultural exchange best fa...</td>\n",
       "      <td>[0.048837505, 0.03931426, -0.021564253, -0.001...</td>\n",
       "      <td>1</td>\n",
       "      <td>[0.006512778, 0.03541783, -0.03512331, 0.00297...</td>\n",
       "      <td>0.695232</td>\n",
       "    </tr>\n",
       "  </tbody>\n",
       "</table>\n",
       "</div>"
      ],
      "text/plain": [
       "                                             sentence  \\\n",
       "0   Musicians tackle red tape Musicians' groups ta...   \n",
       "1   singer hoping perform expect pay $1,300 (Â£680...   \n",
       "2   Groups including Musicians' Union calling end ...   \n",
       "3   acts faced comparable expense bureaucracy visi...   \n",
       "4   Nigel McCune Musicians' Union said British mus...   \n",
       "5   sponsor make petition behalf, form amounting n...   \n",
       "6   \"If make mistake form, risk five-year ban thus...   \n",
       "7   \"The world's biggest music market, means somet...   \n",
       "8   \"The current situation preventing British acts...   \n",
       "9   The Musicians' Union stance endorsed Music Man...   \n",
       "10  The MMF's general secretary James Seller said:...   \n",
       "11  Every member would travel London visas process...   \n",
       "12  \"The market seen holy grail one benchmarks suc...   \n",
       "13  \"It's still important, markets like Europe, In...   \n",
       "14  Department Media, Culture Sport spokeswoman sa...   \n",
       "15  Embassy spokesman said: \"We aware entertainers...   \n",
       "16  \"We aware importance cultural exchange best fa...   \n",
       "\n",
       "                                           embeddings  cluster  \\\n",
       "0   [0.047034286, -0.05700698, 0.03200802, -0.0207...        9   \n",
       "1   [0.028535979, -0.0113964835, 0.027407581, -0.0...        8   \n",
       "2   [-0.0038289719, -0.054160986, 0.00022078159, -...        2   \n",
       "3   [0.0132861715, 0.021861676, -0.012200599, -0.0...        6   \n",
       "4   [0.11587219, -0.0411896, 0.014607726, -0.05767...        2   \n",
       "5   [0.027503742, 0.0531638, 0.029745325, -0.09349...        7   \n",
       "6   [-0.074412145, 0.037071213, 0.058321945, -0.03...        5   \n",
       "7   [0.06626549, -0.037928533, 0.033051696, -0.049...        5   \n",
       "8   [0.012769175, -0.043569244, 0.03420545, -0.051...        0   \n",
       "9   [0.05617586, -0.103920616, -0.022874556, -0.04...        8   \n",
       "10  [0.02145714, -0.009062099, 0.011480432, -0.003...        3   \n",
       "11  [0.07583036, -0.04068549, 0.042486392, -0.0376...        4   \n",
       "12  [-0.015399684, -0.0066603725, -0.069707856, -0...        1   \n",
       "13  [-0.01389575, 0.07359261, -0.014101669, 0.0174...        1   \n",
       "14  [0.011227119, 0.05310617, -0.033743624, -0.060...        7   \n",
       "15  [0.098903045, -0.015526229, -0.015405643, -0.0...        4   \n",
       "16  [0.048837505, 0.03931426, -0.021564253, -0.001...        1   \n",
       "\n",
       "                                             centroid  distance_from_centroid  \n",
       "0   [0.047034286, -0.05700698, 0.03200802, -0.0207...                0.000000  \n",
       "1   [0.04236224, -0.0576797, 0.0022550162, -0.0302...                0.575672  \n",
       "2   [0.055994242, -0.04767826, 0.0074109645, -0.03...                0.499820  \n",
       "3   [0.0132861715, 0.021861676, -0.012200599, -0.0...                0.000000  \n",
       "4   [0.055994242, -0.04767826, 0.0074109645, -0.03...                0.500277  \n",
       "5   [0.019369151, 0.053134996, -0.0019846342, -0.0...                0.548777  \n",
       "6   [-0.004041163, -0.00044580674, 0.045681044, -0...                0.572595  \n",
       "7   [-0.004041163, -0.00044580674, 0.045681044, -0...                0.572072  \n",
       "8   [0.012769175, -0.043569244, 0.03420545, -0.051...                0.000000  \n",
       "9   [0.04236224, -0.0576797, 0.0022550162, -0.0302...                0.575146  \n",
       "10  [0.02145714, -0.009062099, 0.011480432, -0.003...                0.000000  \n",
       "11  [0.08736143, -0.028111612, 0.013553609, -0.060...                0.532496  \n",
       "12  [0.006512778, 0.03541783, -0.03512331, 0.00297...                0.740372  \n",
       "13  [0.006512778, 0.03541783, -0.03512331, 0.00297...                0.573865  \n",
       "14  [0.019369151, 0.053134996, -0.0019846342, -0.0...                0.549279  \n",
       "15  [0.08736143, -0.028111612, 0.013553609, -0.060...                0.532984  \n",
       "16  [0.006512778, 0.03541783, -0.03512331, 0.00297...                0.695232  "
      ]
     },
     "execution_count": 25,
     "metadata": {},
     "output_type": "execute_result"
    }
   ],
   "source": [
    "data_kmean"
   ]
  },
  {
   "cell_type": "code",
   "execution_count": 26,
   "id": "d67cfbd7",
   "metadata": {},
   "outputs": [
    {
     "name": "stdout",
     "output_type": "stream",
     "text": [
      "Silhouette Score: 0.0028879737947136164\n"
     ]
    }
   ],
   "source": [
    "#score\n",
    "silhouette_avg = silhouette_score(X, assigned_clusters)\n",
    "print(f\"Silhouette Score: {silhouette_avg}\")"
   ]
  },
  {
   "cell_type": "markdown",
   "id": "4d4bd1f0",
   "metadata": {},
   "source": [
    "#### 5.1.2 Model evaluation: Accuracy score of K-Means Clustering using Silhouette Score\n",
    "\n",
    "K-Means Clustering is an unsupervised approach hence, there is no concept of accuracy score as there are no ground truth labels to compare against. Accuracy is typically used in supervised learning scenarios where you have labeled data.\n",
    "\n",
    "However, by using the distance of each data point from its assigned cluster centroid, It is use to calculate the the average silhouette score for all clusters. It takes the feature matrix (X) and the assigned cluster labels as inputs. \n",
    "\n",
    "The silhouette score ranges from -1 to 1, where a high value indicates that the object is well matched to its own cluster and poorly matched to neighboring clusters. A score of 0 indicates that the sample is on or very close to the decision boundary between two neighboring clusters. \n",
    "\n",
    "To conclude, the silhouette score for this model gain the score of 0.02 which is closer to 0, proving that the model has a good accuracy."
   ]
  },
  {
   "cell_type": "code",
   "execution_count": 27,
   "id": "39187aab",
   "metadata": {},
   "outputs": [],
   "source": [
    "kcluster_summary = ' '.join(data.sort_values('distance_from_centroid',ascending = True).groupby('cluster').head(1).sort_index()['sentence'].tolist())\n"
   ]
  },
  {
   "cell_type": "markdown",
   "id": "3a003838",
   "metadata": {},
   "source": [
    "The closer the datapoint to the centroid the more relevant it is to the summarization and the highest score will be arrange first followed by the following score. The generated summary will be arranged in a ascending format based on the distance to the centroid."
   ]
  },
  {
   "cell_type": "code",
   "execution_count": 28,
   "id": "a89ac960",
   "metadata": {},
   "outputs": [
    {
     "data": {
      "text/plain": [
       "'Musicians tackle red tape Musicians\\' groups tackle visa regulations blamed hindering British acts\\' chances succeeding across Atlantic. Groups including Musicians\\' Union calling end \"raw deal\" faced British performers. acts faced comparable expense bureaucracy visiting promotional purposes. sponsor make petition behalf, form amounting nearly pages, musicians face tougher regulations athletes journalists. \"The world\\'s biggest music market, means something done creaky bureaucracy,\" says McCune. \"The current situation preventing British acts maintaining momentum developing US,\" added. The Musicians\\' Union stance endorsed Music Managers\\' Forum (MMF), say British artists face \"an uphill struggle\" succeed US, thanks tough visa requirements, also seen impractical. The MMF\\'s general secretary James Seller said: \"Imagine orchestra Orkneys? Every member would travel London visas processed.\" \"It\\'s still important, markets like Europe, India China,\" added Seller.'"
      ]
     },
     "execution_count": 28,
     "metadata": {},
     "output_type": "execute_result"
    }
   ],
   "source": [
    "kcluster_summary"
   ]
  },
  {
   "cell_type": "code",
   "execution_count": 29,
   "id": "7b18e06f",
   "metadata": {},
   "outputs": [],
   "source": [
    "#function for kmean cluster\n",
    "\n",
    "def generate_kmeans(data, num_cluster):\n",
    "\n",
    "    NUM_CLUSTERS=num_cluster\n",
    "\n",
    "    X = np.array(data['embeddings'].tolist())\n",
    "\n",
    "    #initial_centroids = X[:10].tolist()\n",
    "\n",
    "    kclusterer = KMeansClusterer(\n",
    "        NUM_CLUSTERS, distance=nltk.cluster.util.cosine_distance,\n",
    "        repeats=25,avoid_empty_clusters=True)\n",
    "\n",
    "    assigned_clusters = kclusterer.cluster(X, assign_clusters=True)\n",
    "    \n",
    "    data['cluster'] = pd.Series(assigned_clusters, index=data.index)\n",
    "    data['centroid'] = data['cluster'].apply(lambda x: kclusterer.means()[x])\n",
    "    return data\n",
    "\n",
    "def distance_from_centroid(row):\n",
    "    # type of emb and centroid is different, hence using tolist below\n",
    "    return distance_matrix([row['embeddings']], [row['centroid'].tolist()])[0][0]\n",
    "\n",
    "\n",
    "def generate_summary(df):\n",
    "\n",
    "    if isinstance(df, pd.DataFrame):\n",
    "        cleaned_text = []\n",
    "        for c in df['Article']:\n",
    "            cleaned_text.append(text_cleaner(c))\n",
    "\n",
    "        df['cleaned_text'] = cleaned_text\n",
    "        df.dropna(axis=0, inplace=True)\n",
    "\n",
    "        text = df['cleaned_text'][0]\n",
    "    elif isinstance(df, str):\n",
    "        text = text_cleaner(df)\n",
    "    else:\n",
    "        print('Data type is not exceptable')\n",
    "    \n",
    "    summary_df = tokenize_text(text)\n",
    "    \n",
    "    #TODO : Add condition to determine num_cluster based on length of sentence.\n",
    "    num_cluster = 0\n",
    "    if 4 <= len(summary_df) <= 10:\n",
    "        num_cluster += 5\n",
    "    elif 11 <= len(summary_df) <= 25:\n",
    "        num_cluster += 10\n",
    "    elif len(summary_df) >= 26:\n",
    "        num_cluster += 20\n",
    "\n",
    "    #print(len(summary_df['sentence']))\n",
    "    summary_df['embeddings'] = summary_df['sentence'].apply(get_sentence_embeddings)\n",
    "    print(\"Number of rows of the example text dataframe: \", len(summary_df))\n",
    "    print(\"Number cluster: \", num_cluster)\n",
    "    \n",
    "    \n",
    "    fin_df = generate_kmeans(summary_df, num_cluster)\n",
    "\n",
    "    # Compute centroid distance to the data\n",
    "    fin_df['distance_from_centroid'] = fin_df.apply(distance_from_centroid, axis=1)\n",
    "#     print(fin_df)\n",
    "    \n",
    "    kcluster_summary = ' '.join(fin_df.sort_values('distance_from_centroid',ascending = True).groupby('cluster').head(1).sort_index()['sentence'].tolist())\n",
    "\n",
    "    return kcluster_summary"
   ]
  },
  {
   "cell_type": "markdown",
   "id": "54756934",
   "metadata": {},
   "source": [
    "### 5.2 Model 2: TF-IDF Approach\n",
    "\n",
    "TF-IDF stands for Term Frequency — Inverse Document Frequency. It is the product of two statistics.\n",
    "\n",
    "Term Frequency (TF) : It is the number of times the word occurs in the document.\n",
    "\n",
    "Inverse Document Frequency (IDF) : It is the measure of how much information the word provides.\n",
    "\n",
    "TF-IDF algorithm is used alongside multiple basic units like n-gram to determine the final score for each sentenc\n",
    "\n"
   ]
  },
  {
   "cell_type": "markdown",
   "id": "85aed944",
   "metadata": {},
   "source": [
    "#### 5.2.1 Generating a TF-IDF vector with TF-IDF Matrix and cosine similarity (Feature engineering)\n",
    "\n",
    "The feature engineering for TF-IDF approach is using the TF-IDF vector to create the TF-IDF matrix. By using the method from the TF-IDF model, a list of features based on its importance was displayed below. \n",
    "\n",
    "Next, a similarity matrix is created displaying the importance of each words represented by its similarity. Similarity matrix represents the similarity between documents or text segments in a collection. It quantifies how similar or related each pair of documents is based on their content. In this case, cosine similarity is used to measure the similarity.\n",
    "\n",
    "Cosine similarity measures the cosine of the angle between two non-zero vectors. In the context of TF-IDF matrices, each document is represented as a vector in a high-dimensional space, where each dimension corresponds to a unique term in the entire collection. Cosine similarity ranges from -1 (completely dissimilar) to 1 (completely similar), with 0 indicating orthogonality (no similarity)."
   ]
  },
  {
   "cell_type": "code",
   "execution_count": 30,
   "id": "fb2fdc15",
   "metadata": {},
   "outputs": [],
   "source": [
    "vectorizer = TfidfVectorizer(stop_words='english')\n",
    "tfidf_matrix = vectorizer.fit_transform(sentences)"
   ]
  },
  {
   "cell_type": "code",
   "execution_count": 31,
   "id": "fe49e788",
   "metadata": {},
   "outputs": [
    {
     "name": "stdout",
     "output_type": "stream",
     "text": [
      "TF-IDF feature names: ['300' '680' 'ability' 'acts' 'added' 'amounting' 'applications' 'artists'\n",
      " 'athletes' 'atlantic' 'aware' 'ban' 'behalf' 'benchmarks' 'best'\n",
      " 'biggest' 'blamed' 'british' 'bureaucracy' 'calling' 'career' 'chances'\n",
      " 'china' 'comparable' 'compared' 'counterparts' 'creaky' 'cultural'\n",
      " 'culture' 'current' 'deal' 'department' 'developing' 'disadvantaged'\n",
      " 'embassy' 'end' 'endorsed' 'entertainers' 'europe' 'exchange' 'expect'\n",
      " 'expense' 'experiencing' 'face' 'faced' 'facilitate' 'fight' 'form'\n",
      " 'forum' 'general' 'going' 'grail' 'groups' 'hindering' 'holy' 'hoping'\n",
      " 'imagine' 'importance' 'important' 'impractical' 'including' 'india'\n",
      " 'industry' 'james' 'journalists' 'like' 'london' 'maintaining' 'make'\n",
      " 'managers' 'market' 'markets' 'mccune' 'means' 'media' 'member' 'mistake'\n",
      " 'mmf' 'momentum' 'music' 'musicians' 'nearly' 'nigel' 'obtaining'\n",
      " 'orchestra' 'orkneys' 'pages' 'pay' 'people' 'perform' 'performers'\n",
      " 'petition' 'preventing' 'problems' 'process' 'processed' 'promotional'\n",
      " 'purposes' 'raw' 'record' 'red' 'regulations' 'require' 'requirements'\n",
      " 'risk' 'said' 'say' 'says' 'secretary' 'seen' 'seller' 'simply' 'singer'\n",
      " 'situation' 'specific' 'speedily' 'spokesman' 'spokeswoman' 'sponsor'\n",
      " 'sport' 'stance' 'struggle' 'succeed' 'succeeding' 'success' 'tackle'\n",
      " 'tape' 'thanks' 'time' 'tough' 'tougher' 'travel' 'union' 'uphill' 'visa'\n",
      " 'visas' 'visiting' 'working' 'world' 'year']\n"
     ]
    }
   ],
   "source": [
    "feature_names_tfidf = vectorizer.get_feature_names_out()\n",
    "print(\"TF-IDF feature names:\", feature_names_tfidf)"
   ]
  },
  {
   "cell_type": "code",
   "execution_count": 32,
   "id": "ac506029",
   "metadata": {},
   "outputs": [
    {
     "data": {
      "text/plain": [
       "array([0.        , 0.        , 0.        , 0.        , 0.        ,\n",
       "       0.        , 0.        , 0.        , 0.08883176, 0.        ,\n",
       "       0.        , 0.        , 0.        , 0.09051281, 0.06848212,\n",
       "       0.06835019])"
      ]
     },
     "execution_count": 32,
     "metadata": {},
     "output_type": "execute_result"
    }
   ],
   "source": [
    "sentence_scores = cosine_similarity(tfidf_matrix[-1], tfidf_matrix[:-1])[0]\n",
    "sentence_scores"
   ]
  },
  {
   "cell_type": "code",
   "execution_count": 33,
   "id": "eb3b781f",
   "metadata": {},
   "outputs": [
    {
     "data": {
      "text/plain": [
       "[13, 8, 14, 15, 0]"
      ]
     },
     "execution_count": 33,
     "metadata": {},
     "output_type": "execute_result"
    }
   ],
   "source": [
    "n = 5\n",
    "summary_sentences = nlargest(n, range(len(sentence_scores)), key=sentence_scores.__getitem__)\n",
    "summary_sentences"
   ]
  },
  {
   "cell_type": "code",
   "execution_count": 34,
   "id": "07b651df",
   "metadata": {},
   "outputs": [
    {
     "name": "stdout",
     "output_type": "stream",
     "text": [
      "Length of original text:  2261\n",
      "Length of summarize text:  555 \n",
      " Musicians tackle red tape Musicians' groups tackle visa regulations blamed hindering British acts' chances succeeding across Atlantic.\n",
      "\"The current situation preventing British acts maintaining momentum developing US,\" added.\n",
      "\"It's still important, markets like Europe, India China,\" added Seller.\n",
      "Department Media, Culture Sport spokeswoman said: \"We're aware people experiencing problems, working embassy record industry see it.\" Embassy spokesman said: \"We aware entertainers require visas time-specific visas everything process applications speedily.\"\n"
     ]
    }
   ],
   "source": [
    "summary_sentences = ' '.join([sentences[i] for i in sorted(summary_sentences)])\n",
    "summary_tfidf = summary_sentences.split('. ')\n",
    "final_summ = '.\\n'.join(summary_tfidf)\n",
    "final_summ\n",
    "print(\"Length of original text: \", len(train_text))\n",
    "print(\"Length of summarize text: \", len(final_summ), \"\\n\", final_summ)"
   ]
  },
  {
   "cell_type": "code",
   "execution_count": 35,
   "id": "2d49dd90",
   "metadata": {},
   "outputs": [],
   "source": [
    "#function for TF-IDF\n",
    "def generate_summary_tfidf(text, n):\n",
    "    txt = text_cleaner(text)\n",
    "    sentences = nltk.sent_tokenize(txt)\n",
    "\n",
    "    # Create the TF-IDF matrix\n",
    "    vectorizer = TfidfVectorizer(stop_words='english')\n",
    "    tfidf_matrix = vectorizer.fit_transform(sentences)\n",
    "\n",
    "    # Compute the cosine similarity between each sentence and the document\n",
    "    sentence_scores = cosine_similarity(tfidf_matrix[-1], tfidf_matrix[:-1])[0]\n",
    "\n",
    "    # Select the top n sentences with the highest scores\n",
    "    summary_sentences = nlargest(n, range(len(sentence_scores)), key=sentence_scores.__getitem__)\n",
    "\n",
    "    summary_sentences = ' '.join([sentences[i] for i in sorted(summary_sentences)])\n",
    "    summary_tfidf_n = summary_sentences.split('. ')\n",
    "    summary_tfidf = '.\\n'.join(summary_tfidf_n)\n",
    "\n",
    "    return summary_tfidf"
   ]
  },
  {
   "cell_type": "markdown",
   "id": "614ce335",
   "metadata": {},
   "source": [
    "### 5.3 Pagerank algorithm approach (Model 3)\n",
    "\n",
    "PageRank, a link analysis algorithm originally developed by Google to rank web pages. With its ability to identify important and central elements within a network, which can be translated to identifying important sentences or phrases within a document which makes it suitable model for text summarization. \n",
    "\n",
    "One of its important features on identifying important sentences is that it uses graph representation. Text can be represented as a graph, where nodes represent sentences or paragraphs, and edges represent relationships between them. These relationships can be based on similarity or other criteria.\n",
    "PageRank operates on such graphs, identifying nodes that are well-connected or central.\n",
    "\n",
    "Furthermore, it can be used to assign scores to sentences based on their importance within the document. Sentences with higher PageRank scores are considered more significant in the context of the document."
   ]
  },
  {
   "cell_type": "code",
   "execution_count": 36,
   "id": "9e7c0ab5",
   "metadata": {},
   "outputs": [],
   "source": [
    "tokenize_textrank = sentences"
   ]
  },
  {
   "cell_type": "code",
   "execution_count": 37,
   "id": "be4a1356",
   "metadata": {},
   "outputs": [
    {
     "data": {
      "text/plain": [
       "[['musicians',\n",
       "  'tackle',\n",
       "  'red',\n",
       "  'tape',\n",
       "  'musicians',\n",
       "  'groups',\n",
       "  'tackle',\n",
       "  'visa',\n",
       "  'regulations',\n",
       "  'blamed',\n",
       "  'hindering',\n",
       "  'british',\n",
       "  'acts',\n",
       "  'chances',\n",
       "  'succeeding',\n",
       "  'across',\n",
       "  'atlantic'],\n",
       " ['singer',\n",
       "  'hoping',\n",
       "  'perform',\n",
       "  'expect',\n",
       "  'pay',\n",
       "  'simply',\n",
       "  'obtaining',\n",
       "  'visa'],\n",
       " ['groups',\n",
       "  'including',\n",
       "  'musicians',\n",
       "  'union',\n",
       "  'calling',\n",
       "  'end',\n",
       "  'raw',\n",
       "  'deal',\n",
       "  'faced',\n",
       "  'british',\n",
       "  'performers'],\n",
       " ['acts',\n",
       "  'faced',\n",
       "  'comparable',\n",
       "  'expense',\n",
       "  'bureaucracy',\n",
       "  'visiting',\n",
       "  'promotional',\n",
       "  'purposes'],\n",
       " ['nigel',\n",
       "  'mccune',\n",
       "  'musicians',\n",
       "  'union',\n",
       "  'said',\n",
       "  'british',\n",
       "  'musicians',\n",
       "  'disadvantaged',\n",
       "  'compared',\n",
       "  'counterparts'],\n",
       " ['sponsor',\n",
       "  'make',\n",
       "  'petition',\n",
       "  'behalf',\n",
       "  'form',\n",
       "  'amounting',\n",
       "  'nearly',\n",
       "  'pages',\n",
       "  'musicians',\n",
       "  'face',\n",
       "  'tougher',\n",
       "  'regulations',\n",
       "  'athletes',\n",
       "  'journalists'],\n",
       " ['make',\n",
       "  'mistake',\n",
       "  'form',\n",
       "  'risk',\n",
       "  'ban',\n",
       "  'thus',\n",
       "  'ability',\n",
       "  'career',\n",
       "  'says',\n",
       "  'mccune'],\n",
       " ['world',\n",
       "  'biggest',\n",
       "  'music',\n",
       "  'market',\n",
       "  'means',\n",
       "  'something',\n",
       "  'done',\n",
       "  'creaky',\n",
       "  'bureaucracy',\n",
       "  'says',\n",
       "  'mccune'],\n",
       " ['current',\n",
       "  'situation',\n",
       "  'preventing',\n",
       "  'british',\n",
       "  'acts',\n",
       "  'maintaining',\n",
       "  'momentum',\n",
       "  'developing',\n",
       "  'us',\n",
       "  'added'],\n",
       " ['musicians',\n",
       "  'union',\n",
       "  'stance',\n",
       "  'endorsed',\n",
       "  'music',\n",
       "  'managers',\n",
       "  'forum',\n",
       "  'mmf',\n",
       "  'say',\n",
       "  'british',\n",
       "  'artists',\n",
       "  'face',\n",
       "  'uphill',\n",
       "  'struggle',\n",
       "  'succeed',\n",
       "  'us',\n",
       "  'thanks',\n",
       "  'tough',\n",
       "  'visa',\n",
       "  'requirements',\n",
       "  'also',\n",
       "  'seen',\n",
       "  'impractical'],\n",
       " ['mmf',\n",
       "  'general',\n",
       "  'secretary',\n",
       "  'james',\n",
       "  'seller',\n",
       "  'said',\n",
       "  'imagine',\n",
       "  'orchestra',\n",
       "  'orkneys'],\n",
       " ['every', 'member', 'would', 'travel', 'london', 'visas', 'processed'],\n",
       " ['market',\n",
       "  'seen',\n",
       "  'holy',\n",
       "  'grail',\n",
       "  'one',\n",
       "  'benchmarks',\n",
       "  'success',\n",
       "  'still',\n",
       "  'going',\n",
       "  'fight',\n",
       "  'get'],\n",
       " ['still',\n",
       "  'important',\n",
       "  'markets',\n",
       "  'like',\n",
       "  'europe',\n",
       "  'india',\n",
       "  'china',\n",
       "  'added',\n",
       "  'seller'],\n",
       " ['department',\n",
       "  'media',\n",
       "  'culture',\n",
       "  'sport',\n",
       "  'spokeswoman',\n",
       "  'said',\n",
       "  'aware',\n",
       "  'people',\n",
       "  'experiencing',\n",
       "  'problems',\n",
       "  'working',\n",
       "  'embassy',\n",
       "  'record',\n",
       "  'industry',\n",
       "  'see'],\n",
       " ['embassy',\n",
       "  'spokesman',\n",
       "  'said',\n",
       "  'aware',\n",
       "  'entertainers',\n",
       "  'require',\n",
       "  'visas',\n",
       "  'visas',\n",
       "  'everything',\n",
       "  'process',\n",
       "  'applications',\n",
       "  'speedily'],\n",
       " ['aware',\n",
       "  'importance',\n",
       "  'cultural',\n",
       "  'exchange',\n",
       "  'best',\n",
       "  'facilitate',\n",
       "  'added']]"
      ]
     },
     "execution_count": 37,
     "metadata": {},
     "output_type": "execute_result"
    }
   ],
   "source": [
    "stop_words = set(stopwords.words(\"english\"))\n",
    "word_tokens = [word_tokenize(sentence) for sentence in tokenize_textrank]\n",
    "filtered_tokens = [[word.lower() for word in words if word.isalnum() and word.lower() not in stop_words] for words in word_tokens]\n",
    "filtered_tokens"
   ]
  },
  {
   "cell_type": "code",
   "execution_count": 38,
   "id": "2c34e3d8",
   "metadata": {},
   "outputs": [
    {
     "data": {
      "text/plain": [
       "['musicians tackle red tape musicians groups tackle visa regulations blamed hindering british acts chances succeeding across atlantic',\n",
       " 'singer hoping perform expect pay simply obtaining visa',\n",
       " 'groups including musicians union calling end raw deal faced british performers',\n",
       " 'acts faced comparable expense bureaucracy visiting promotional purposes',\n",
       " 'nigel mccune musicians union said british musicians disadvantaged compared counterparts',\n",
       " 'sponsor make petition behalf form amounting nearly pages musicians face tougher regulations athletes journalists',\n",
       " 'make mistake form risk ban thus ability career says mccune',\n",
       " 'world biggest music market means something done creaky bureaucracy says mccune',\n",
       " 'current situation preventing british acts maintaining momentum developing us added',\n",
       " 'musicians union stance endorsed music managers forum mmf say british artists face uphill struggle succeed us thanks tough visa requirements also seen impractical',\n",
       " 'mmf general secretary james seller said imagine orchestra orkneys',\n",
       " 'every member would travel london visas processed',\n",
       " 'market seen holy grail one benchmarks success still going fight get',\n",
       " 'still important markets like europe india china added seller',\n",
       " 'department media culture sport spokeswoman said aware people experiencing problems working embassy record industry see',\n",
       " 'embassy spokesman said aware entertainers require visas visas everything process applications speedily',\n",
       " 'aware importance cultural exchange best facilitate added']"
      ]
     },
     "execution_count": 38,
     "metadata": {},
     "output_type": "execute_result"
    }
   ],
   "source": [
    "corpus = [\" \".join(words) for words in filtered_tokens]\n",
    "corpus"
   ]
  },
  {
   "cell_type": "markdown",
   "id": "19b7dd00",
   "metadata": {},
   "source": [
    "#### 5.3.1 Generating a TF-IDF vector with TF-IDF Matrix and cosine similarity (Feature engineering)\n",
    "\n",
    "Similar to the feature engineering did for using the TF-IDF approach by creating a similarity matrix using cosine similarity."
   ]
  },
  {
   "cell_type": "code",
   "execution_count": 39,
   "id": "38cfbf5b",
   "metadata": {},
   "outputs": [],
   "source": [
    "vectorizer = TfidfVectorizer()\n",
    "tfidf_matrix_tt = vectorizer.fit_transform(corpus)"
   ]
  },
  {
   "cell_type": "code",
   "execution_count": 40,
   "id": "ae46b7b6",
   "metadata": {},
   "outputs": [
    {
     "name": "stdout",
     "output_type": "stream",
     "text": [
      "TF-IDF feature names: ['ability' 'across' 'acts' 'added' 'also' 'amounting' 'applications'\n",
      " 'artists' 'athletes' 'atlantic' 'aware' 'ban' 'behalf' 'benchmarks'\n",
      " 'best' 'biggest' 'blamed' 'british' 'bureaucracy' 'calling' 'career'\n",
      " 'chances' 'china' 'comparable' 'compared' 'counterparts' 'creaky'\n",
      " 'cultural' 'culture' 'current' 'deal' 'department' 'developing'\n",
      " 'disadvantaged' 'done' 'embassy' 'end' 'endorsed' 'entertainers' 'europe'\n",
      " 'every' 'everything' 'exchange' 'expect' 'expense' 'experiencing' 'face'\n",
      " 'faced' 'facilitate' 'fight' 'form' 'forum' 'general' 'get' 'going'\n",
      " 'grail' 'groups' 'hindering' 'holy' 'hoping' 'imagine' 'importance'\n",
      " 'important' 'impractical' 'including' 'india' 'industry' 'james'\n",
      " 'journalists' 'like' 'london' 'maintaining' 'make' 'managers' 'market'\n",
      " 'markets' 'mccune' 'means' 'media' 'member' 'mistake' 'mmf' 'momentum'\n",
      " 'music' 'musicians' 'nearly' 'nigel' 'obtaining' 'one' 'orchestra'\n",
      " 'orkneys' 'pages' 'pay' 'people' 'perform' 'performers' 'petition'\n",
      " 'preventing' 'problems' 'process' 'processed' 'promotional' 'purposes'\n",
      " 'raw' 'record' 'red' 'regulations' 'require' 'requirements' 'risk' 'said'\n",
      " 'say' 'says' 'secretary' 'see' 'seen' 'seller' 'simply' 'singer'\n",
      " 'situation' 'something' 'speedily' 'spokesman' 'spokeswoman' 'sponsor'\n",
      " 'sport' 'stance' 'still' 'struggle' 'succeed' 'succeeding' 'success'\n",
      " 'tackle' 'tape' 'thanks' 'thus' 'tough' 'tougher' 'travel' 'union'\n",
      " 'uphill' 'us' 'visa' 'visas' 'visiting' 'working' 'world' 'would']\n"
     ]
    }
   ],
   "source": [
    "feature_names_pr = vectorizer.get_feature_names_out()\n",
    "print(\"TF-IDF feature names:\", feature_names_pr)"
   ]
  },
  {
   "cell_type": "code",
   "execution_count": 41,
   "id": "82f06f67",
   "metadata": {},
   "outputs": [
    {
     "data": {
      "text/plain": [
       "array([[1.        , 0.04960565, 0.17175362, 0.05756684, 0.19229623,\n",
       "        0.11527191, 0.        , 0.        , 0.09461871, 0.11220968,\n",
       "        0.        , 0.        , 0.        , 0.        , 0.        ,\n",
       "        0.        , 0.        ],\n",
       "       [0.04960565, 1.        , 0.        , 0.        , 0.        ,\n",
       "        0.        , 0.        , 0.        , 0.        , 0.04645285,\n",
       "        0.        , 0.        , 0.        , 0.        , 0.        ,\n",
       "        0.        , 0.        ],\n",
       "       [0.17175362, 0.        , 1.        , 0.09512427, 0.22617728,\n",
       "        0.04065172, 0.        , 0.        , 0.05189784, 0.11545161,\n",
       "        0.        , 0.        , 0.        , 0.        , 0.        ,\n",
       "        0.        , 0.        ],\n",
       "       [0.05756684, 0.        , 0.09512427, 1.        , 0.        ,\n",
       "        0.        , 0.        , 0.1030878 , 0.08296669, 0.        ,\n",
       "        0.        , 0.        , 0.        , 0.        , 0.        ,\n",
       "        0.        , 0.        ],\n",
       "       [0.19229623, 0.        , 0.22617728, 0.        , 1.        ,\n",
       "        0.08683442, 0.07319779, 0.07888715, 0.05542838, 0.15932053,\n",
       "        0.06392626, 0.        , 0.        , 0.        , 0.050478  ,\n",
       "        0.05038075, 0.        ],\n",
       "       [0.11527191, 0.        , 0.04065172, 0.        , 0.08683442,\n",
       "        1.        , 0.14467989, 0.        , 0.        , 0.07931025,\n",
       "        0.        , 0.        , 0.        , 0.        , 0.        ,\n",
       "        0.        , 0.        ],\n",
       "       [0.        , 0.        , 0.        , 0.        , 0.07319779,\n",
       "        0.14467989, 1.        , 0.16659208, 0.        , 0.        ,\n",
       "        0.        , 0.        , 0.        , 0.        , 0.        ,\n",
       "        0.        , 0.        ],\n",
       "       [0.        , 0.        , 0.        , 0.1030878 , 0.07888715,\n",
       "        0.        , 0.16659208, 1.        , 0.        , 0.06467056,\n",
       "        0.        , 0.        , 0.10040482, 0.        , 0.        ,\n",
       "        0.        , 0.        ],\n",
       "       [0.09461871, 0.        , 0.05189784, 0.08296669, 0.05542838,\n",
       "        0.        , 0.        , 0.        , 1.        , 0.03655712,\n",
       "        0.        , 0.        , 0.        , 0.08161971, 0.        ,\n",
       "        0.        , 0.08883176],\n",
       "       [0.11220968, 0.04645285, 0.11545161, 0.        , 0.15932053,\n",
       "        0.07931025, 0.        , 0.06467056, 0.03655712, 1.        ,\n",
       "        0.06316111, 0.        , 0.06526215, 0.        , 0.        ,\n",
       "        0.        , 0.        ],\n",
       "       [0.        , 0.        , 0.        , 0.        , 0.06392626,\n",
       "        0.        , 0.        , 0.        , 0.        , 0.06316111,\n",
       "        1.        , 0.        , 0.        , 0.09904709, 0.05002398,\n",
       "        0.04992761, 0.        ],\n",
       "       [0.        , 0.        , 0.        , 0.        , 0.        ,\n",
       "        0.        , 0.        , 0.        , 0.        , 0.        ,\n",
       "        0.        , 1.        , 0.        , 0.        , 0.        ,\n",
       "        0.19428898, 0.        ],\n",
       "       [0.        , 0.        , 0.        , 0.        , 0.        ,\n",
       "        0.        , 0.        , 0.10040482, 0.        , 0.06526215,\n",
       "        0.        , 0.        , 1.        , 0.        , 0.        ,\n",
       "        0.        , 0.        ],\n",
       "       [0.        , 0.        , 0.        , 0.        , 0.        ,\n",
       "        0.        , 0.        , 0.        , 0.08161971, 0.        ,\n",
       "        0.09904709, 0.        , 0.        , 1.        , 0.        ,\n",
       "        0.        , 0.09051281],\n",
       "       [0.        , 0.        , 0.        , 0.        , 0.050478  ,\n",
       "        0.        , 0.        , 0.        , 0.        , 0.        ,\n",
       "        0.05002398, 0.        , 0.        , 0.        , 1.        ,\n",
       "        0.14599971, 0.06848212],\n",
       "       [0.        , 0.        , 0.        , 0.        , 0.05038075,\n",
       "        0.        , 0.        , 0.        , 0.        , 0.        ,\n",
       "        0.04992761, 0.19428898, 0.        , 0.        , 0.14599971,\n",
       "        1.        , 0.06835019],\n",
       "       [0.        , 0.        , 0.        , 0.        , 0.        ,\n",
       "        0.        , 0.        , 0.        , 0.08883176, 0.        ,\n",
       "        0.        , 0.        , 0.        , 0.09051281, 0.06848212,\n",
       "        0.06835019, 1.        ]])"
      ]
     },
     "execution_count": 41,
     "metadata": {},
     "output_type": "execute_result"
    }
   ],
   "source": [
    "similarity_matrix = (tfidf_matrix * tfidf_matrix.T).toarray()\n",
    "similarity_matrix"
   ]
  },
  {
   "cell_type": "code",
   "execution_count": 42,
   "id": "728a6a92",
   "metadata": {},
   "outputs": [],
   "source": [
    "graph = nx.from_numpy_array(similarity_matrix)"
   ]
  },
  {
   "cell_type": "markdown",
   "id": "a741a965",
   "metadata": {},
   "source": [
    "#### 5.3.2 PageRank scores\n",
    "A graph is created based on similarity matrix before it will be calculated and ranked using the PageRank algorithm to rank each sentences. The list below display the rank of the sentences based on PageRank scores.\n",
    "\n",
    "Next, the each scores will be sorted into nodes and will be visualized into bar chart to see the rank of each nodes. Based on the bar chart, the highest scored by node 4 which means it will be the starting sentences of the summary."
   ]
  },
  {
   "cell_type": "code",
   "execution_count": 43,
   "id": "dd5f5ff7",
   "metadata": {},
   "outputs": [
    {
     "data": {
      "text/plain": [
       "{0: 0.06579787736080814,\n",
       " 1: 0.052801624707521234,\n",
       " 2: 0.06225180960754485,\n",
       " 3: 0.05438470579113784,\n",
       " 4: 0.07331726364945652,\n",
       " 5: 0.056605995065811154,\n",
       " 6: 0.05554382323086423,\n",
       " 7: 0.060227354321002034,\n",
       " 8: 0.05904515286372326,\n",
       " 9: 0.06537892617521154,\n",
       " 10: 0.05588690061228106,\n",
       " 11: 0.05451449836959665,\n",
       " 12: 0.052809624973691655,\n",
       " 13: 0.0556334858005568,\n",
       " 14: 0.05612719679154119,\n",
       " 15: 0.0629580409344292,\n",
       " 16: 0.05671571974482243}"
      ]
     },
     "execution_count": 43,
     "metadata": {},
     "output_type": "execute_result"
    }
   ],
   "source": [
    "pagerank_scores = nx.pagerank(graph)\n",
    "pagerank_scores"
   ]
  },
  {
   "cell_type": "code",
   "execution_count": 44,
   "id": "b9dac138",
   "metadata": {},
   "outputs": [
    {
     "data": {
      "image/png": "[encoded data removed]",
      "text/plain": [
       "<Figure size 1000x600 with 1 Axes>"
      ]
     },
     "metadata": {},
     "output_type": "display_data"
    }
   ],
   "source": [
    "sorted_nodes = sorted(pagerank_scores, key=pagerank_scores.get, reverse=True)\n",
    "sorted_scores = [pagerank_scores[node] for node in sorted_nodes]\n",
    "\n",
    "    # Visualize the PageRank scores\n",
    "plt.figure(figsize=(10, 6))\n",
    "plt.bar(sorted_nodes, sorted_scores, color='blue', alpha=0.6)\n",
    "plt.xlabel('Nodes')\n",
    "plt.ylabel('PageRank Score')\n",
    "plt.title('PageRank Scores for Graph Nodes')\n",
    "plt.xticks(rotation=45, ha='right')  # Rotate x-axis labels for better readability\n",
    "plt.show()"
   ]
  },
  {
   "cell_type": "code",
   "execution_count": 45,
   "id": "0fb27bb8",
   "metadata": {},
   "outputs": [
    {
     "data": {
      "text/plain": [
       "[(0.07331726364945652,\n",
       "  'Nigel McCune Musicians\\' Union said British musicians \"disadvantaged\" compared counterparts.'),\n",
       " (0.06579787736080814,\n",
       "  \"Musicians tackle red tape Musicians' groups tackle visa regulations blamed hindering British acts' chances succeeding across Atlantic.\"),\n",
       " (0.06537892617521154,\n",
       "  'The Musicians\\' Union stance endorsed Music Managers\\' Forum (MMF), say British artists face \"an uphill struggle\" succeed US, thanks tough visa requirements, also seen impractical.'),\n",
       " (0.0629580409344292,\n",
       "  'Embassy spokesman said: \"We aware entertainers require visas time-specific visas everything process applications speedily.\"'),\n",
       " (0.06225180960754485,\n",
       "  'Groups including Musicians\\' Union calling end \"raw deal\" faced British performers.'),\n",
       " (0.060227354321002034,\n",
       "  '\"The world\\'s biggest music market, means something done creaky bureaucracy,\" says McCune.'),\n",
       " (0.05904515286372326,\n",
       "  '\"The current situation preventing British acts maintaining momentum developing US,\" added.'),\n",
       " (0.05671571974482243,\n",
       "  '\"We aware importance cultural exchange best facilitate that,\" added.'),\n",
       " (0.056605995065811154,\n",
       "  'sponsor make petition behalf, form amounting nearly pages, musicians face tougher regulations athletes journalists.'),\n",
       " (0.05612719679154119,\n",
       "  'Department Media, Culture Sport spokeswoman said: \"We\\'re aware people experiencing problems, working embassy record industry see it.\"'),\n",
       " (0.05588690061228106,\n",
       "  'The MMF\\'s general secretary James Seller said: \"Imagine orchestra Orkneys?'),\n",
       " (0.0556334858005568,\n",
       "  '\"It\\'s still important, markets like Europe, India China,\" added Seller.'),\n",
       " (0.05554382323086423,\n",
       "  '\"If make mistake form, risk five-year ban thus ability career,\" says McCune.'),\n",
       " (0.05451449836959665, 'Every member would travel London visas processed.\"'),\n",
       " (0.05438470579113784,\n",
       "  'acts faced comparable expense bureaucracy visiting promotional purposes.'),\n",
       " (0.052809624973691655,\n",
       "  '\"The market seen holy grail one benchmarks success, still going fight get there.'),\n",
       " (0.052801624707521234,\n",
       "  'singer hoping perform expect pay $1,300 (Â£680) simply obtaining visa.')]"
      ]
     },
     "execution_count": 45,
     "metadata": {},
     "output_type": "execute_result"
    }
   ],
   "source": [
    "ranked_sentences = sorted(((pagerank_scores[i], sentence) for i, sentence in enumerate(sentences)), reverse=True)\n",
    "ranked_sentences"
   ]
  },
  {
   "cell_type": "code",
   "execution_count": 46,
   "id": "0ff409c2",
   "metadata": {},
   "outputs": [],
   "source": [
    "num_sentences = 5\n",
    "\n",
    "# Extract the top-ranked sentences for the summary\n",
    "summary_pr = \" \".join([sentence for _, sentence in ranked_sentences[:num_sentences]])"
   ]
  },
  {
   "cell_type": "code",
   "execution_count": 47,
   "id": "71f1a3ec",
   "metadata": {},
   "outputs": [
    {
     "data": {
      "text/plain": [
       "'Nigel McCune Musicians\\' Union said British musicians \"disadvantaged\" compared counterparts. Musicians tackle red tape Musicians\\' groups tackle visa regulations blamed hindering British acts\\' chances succeeding across Atlantic. The Musicians\\' Union stance endorsed Music Managers\\' Forum (MMF), say British artists face \"an uphill struggle\" succeed US, thanks tough visa requirements, also seen impractical. Embassy spokesman said: \"We aware entertainers require visas time-specific visas everything process applications speedily.\" Groups including Musicians\\' Union calling end \"raw deal\" faced British performers.'"
      ]
     },
     "execution_count": 47,
     "metadata": {},
     "output_type": "execute_result"
    }
   ],
   "source": [
    "summary_pr"
   ]
  },
  {
   "cell_type": "code",
   "execution_count": 48,
   "id": "73922c11",
   "metadata": {},
   "outputs": [],
   "source": [
    "# Pagerank function\n",
    "\n",
    "def pagerank_summary(text, n):\n",
    "    \n",
    "    txt = text_cleaner(text)\n",
    "    sentences = nltk.sent_tokenize(txt)\n",
    "\n",
    "    # Tokenize words and remove stop words\n",
    "    stop_words = set(stopwords.words(\"english\"))\n",
    "    word_tokens = [word_tokenize(sentence) for sentence in sentences]\n",
    "    filtered_tokens = [[word.lower() for word in words if word.isalnum() and word.lower() not in stop_words] for words in word_tokens]\n",
    "    sentences\n",
    "    \n",
    "    # Create a TF-IDF matrix\n",
    "    corpus = [\" \".join(words) for words in filtered_tokens]\n",
    "    vectorizer = TfidfVectorizer()\n",
    "    tfidf_matrix = vectorizer.fit_transform(corpus)\n",
    "    \n",
    "    similarity_matrix = (tfidf_matrix * tfidf_matrix.T).toarray()\n",
    "    \n",
    "    graph = nx.from_numpy_array(similarity_matrix)\n",
    "    \n",
    "    \n",
    "    pagerank_scores = nx.pagerank(graph)\n",
    "    \n",
    "    ranked_sentences = sorted(((pagerank_scores[i], sentence) for i, sentence in enumerate(sentences)), reverse=True)\n",
    "\n",
    "    num_sentences_in_summary = n\n",
    "\n",
    "    # Extract the top-ranked sentences for the summary\n",
    "    summary = \" \".join([sentence for _, sentence in ranked_sentences[:num_sentences_in_summary]])\n",
    "\n",
    "    return summary\n"
   ]
  },
  {
   "cell_type": "markdown",
   "id": "05fd19a1",
   "metadata": {},
   "source": [
    "### 6. Testing each model functions summarization and compare length with test data\n",
    "\n",
    "Choosing one article from the dataset to be use as the test data. The text data will be applied into each model's functions and compare the number count. \n",
    "\n",
    "Based on the results below, the lowest summarization word counts is TF-IDF. However, this does not indicates that it is the best approach and quality of summarization as it also depends on the number of sentences set which is a bit difficult to conduct for K-Means Clusterer model."
   ]
  },
  {
   "cell_type": "code",
   "execution_count": 49,
   "id": "86f5efdc",
   "metadata": {},
   "outputs": [],
   "source": [
    "test_text = df['Article'][2]\n",
    "test_summ = df['Summary'][2]"
   ]
  },
  {
   "cell_type": "code",
   "execution_count": 50,
   "id": "721b5862",
   "metadata": {},
   "outputs": [
    {
     "name": "stdout",
     "output_type": "stream",
     "text": [
      "Length of original text:  2127\n",
      "Length of summarize text:  439 \n",
      " Babyshambles, formed acrimonious departure Libertines, played warm-up show The Garage, north London, Monday. Babyshambles played 5,000 fans London's Brixton Academy Tuesday. Rocker Doherty on-stage fight Rock singer Pete Doherty involved fight band's guitarist biggest gig date. The former Libertines singer traded blows guitarist Patrick Walden. Â£50,000 bail judge agreed extend 2200 GMT curfew deadline two hours could play Brixton gig.\n"
     ]
    }
   ],
   "source": [
    "pr_summ = pagerank_summary(test_text, 5)\n",
    "print(\"Length of original text: \", len(test_text))\n",
    "print(\"Length of summarize text: \", len(pr_summ), \"\\n\", pr_summ)"
   ]
  },
  {
   "cell_type": "code",
   "execution_count": 51,
   "id": "96a0e002",
   "metadata": {},
   "outputs": [
    {
     "name": "stdout",
     "output_type": "stream",
     "text": [
      "Length of original text:  2127\n",
      "Length of summarize text:  347 \n",
      " Rocker Doherty on-stage fight Rock singer Pete Doherty involved fight band's guitarist biggest gig date.\n",
      "Babyshambles played 5,000 fans London's Brixton Academy Tuesday.\n",
      "The former Libertines singer traded blows guitarist Patrick Walden.\n",
      "They separated bundled stage returning end set.\n",
      "Monday Doherty faced blackmail robbery charges court, denies.\n"
     ]
    }
   ],
   "source": [
    "tfidf_summ = generate_summary_tfidf(test_text, 5)\n",
    "print(\"Length of original text: \", len(test_text))\n",
    "print(\"Length of summarize text: \", len(tfidf_summ), \"\\n\", tfidf_summ)"
   ]
  },
  {
   "cell_type": "code",
   "execution_count": 52,
   "id": "1fe1ee40",
   "metadata": {},
   "outputs": [
    {
     "name": "stdout",
     "output_type": "stream",
     "text": [
      "Number of rows of the example text dataframe:  18\n",
      "Number cluster:  10\n",
      "Length of original text:  2127\n",
      "Length of summarize text:  920 \n",
      " Babyshambles played 5,000 fans London's Brixton Academy Tuesday. The former Libertines singer traded blows guitarist Patrick Walden. Monday Doherty faced blackmail robbery charges court, denies. Â£50,000 bail judge agreed extend 2200 GMT curfew deadline two hours could play Brixton gig. Babyshambles, formed acrimonious departure Libertines, played warm-up show The Garage, north London, Monday. Babyshambles took stage frenzied reception 2200 GMT, launching last single, Killamangiro, reached number eight December. Doherty appealed fans calm down, saying: \"There's people getting hurt front, got move back.\" Bouncers stepped band left stage, returned five minutes finished 50-minute performance trouble. Monday, judge agreed allow perform condition requests changes bail terms \"not regular occurrence\". The singer arrested fellow musician Alan Wass February alleged dispute documentary-maker Max Carlish London hotel.\n"
     ]
    }
   ],
   "source": [
    "km_summ = generate_summary(test_text)\n",
    "print(\"Length of original text: \", len(test_text))\n",
    "print(\"Length of summarize text: \", len(km_summ), \"\\n\", km_summ)"
   ]
  },
  {
   "cell_type": "markdown",
   "id": "736b1fbe",
   "metadata": {},
   "source": [
    "### 7.1 Model evaluation & result using TRAIN data: BLEU score\n",
    "The evaluation of the model above using two methods, BLEU and Rogue. Based on the result for BLEU, K-Means Clusterer scores the highest, followed by PageRank and then TF-IDF."
   ]
  },
  {
   "cell_type": "code",
   "execution_count": 53,
   "id": "d13ae6e4",
   "metadata": {},
   "outputs": [
    {
     "name": "stdout",
     "output_type": "stream",
     "text": [
      "BLEUscore : 0.6554358604168459\n"
     ]
    }
   ],
   "source": [
    "hypothesis = kcluster_summary\n",
    "reference = train_summary\n",
    "BLEUscore_kcluster = nltk.translate.bleu_score.sentence_bleu([reference], hypothesis)\n",
    "print(f\"BLEUscore : {BLEUscore_kcluster}\")"
   ]
  },
  {
   "cell_type": "code",
   "execution_count": 54,
   "id": "4cd0ac49",
   "metadata": {},
   "outputs": [
    {
     "name": "stdout",
     "output_type": "stream",
     "text": [
      "BLEUscore : 0.34212527391975306\n"
     ]
    }
   ],
   "source": [
    "hypothesis = final_summ\n",
    "reference = train_summary\n",
    "BLEUscore_tfidf = nltk.translate.bleu_score.sentence_bleu([reference], hypothesis)\n",
    "print(f\"BLEUscore : {BLEUscore_tfidf}\")"
   ]
  },
  {
   "cell_type": "code",
   "execution_count": 55,
   "id": "1dfe0559",
   "metadata": {},
   "outputs": [
    {
     "name": "stdout",
     "output_type": "stream",
     "text": [
      "BLEUscore : 0.4721980828059771\n"
     ]
    }
   ],
   "source": [
    "hypothesis = summary_pr\n",
    "reference = train_summary\n",
    "BLEUscore_pgr = nltk.translate.bleu_score.sentence_bleu([reference], hypothesis)\n",
    "print(f\"BLEUscore : {BLEUscore_pgr}\")"
   ]
  },
  {
   "cell_type": "code",
   "execution_count": 56,
   "id": "8a8df049",
   "metadata": {},
   "outputs": [],
   "source": [
    "scores = pd.DataFrame({\n",
    "    'Scores': ['K-Mean Cluster','TIFIDF', \n",
    "              'PageRank'],\n",
    "    \n",
    "    'Score_train': [BLEUscore_kcluster, BLEUscore_tfidf,  \n",
    "              BLEUscore_pgr]})"
   ]
  },
  {
   "cell_type": "code",
   "execution_count": 57,
   "id": "6e4ea08b",
   "metadata": {},
   "outputs": [
    {
     "data": {
      "image/png": "[encoded data removed]",
      "text/plain": [
       "<Figure size 2500x600 with 1 Axes>"
      ]
     },
     "metadata": {},
     "output_type": "display_data"
    }
   ],
   "source": [
    "plt.figure(figsize=[25,6])\n",
    "xx = scores['Scores']\n",
    "plt.tick_params(labelsize=14)\n",
    "plt.plot(xx, scores['Score_train'], label = 'Score_train')\n",
    "plt.legend()\n",
    "plt.title('Score of models for train and test datasets')\n",
    "plt.xlabel('Models')\n",
    "plt.ylabel('Scores, %')\n",
    "plt.xticks(xx, rotation='vertical')\n",
    "plt.show()"
   ]
  },
  {
   "cell_type": "markdown",
   "id": "95af43d4",
   "metadata": {},
   "source": [
    "Based on the score as well the visualization of the graph, K-Mean Clusterer appears to score the highest. In order to obtain the final outcome of the result for a better accuracy, another evaluation method will be used. In the next section, the evaluation using ROGUE score will be executed."
   ]
  },
  {
   "cell_type": "markdown",
   "id": "5793e2ad",
   "metadata": {},
   "source": [
    "### 7.2 Model evaluation & result using TEST data: BLEU score"
   ]
  },
  {
   "cell_type": "code",
   "execution_count": 58,
   "id": "063db2cd",
   "metadata": {},
   "outputs": [
    {
     "name": "stdout",
     "output_type": "stream",
     "text": [
      "BLEUscore : 0.5888437579425374\n"
     ]
    }
   ],
   "source": [
    "hypothesis = km_summ\n",
    "reference = test_summ\n",
    "BLEUscore_km = nltk.translate.bleu_score.sentence_bleu([reference], hypothesis)\n",
    "print(f\"BLEUscore : {BLEUscore_km}\")"
   ]
  },
  {
   "cell_type": "code",
   "execution_count": 59,
   "id": "746434c4",
   "metadata": {},
   "outputs": [
    {
     "name": "stdout",
     "output_type": "stream",
     "text": [
      "BLEUscore : 0.18463191195307127\n"
     ]
    }
   ],
   "source": [
    "hypothesis = tfidf_summ\n",
    "reference = test_summ\n",
    "BLEUscore_tf = nltk.translate.bleu_score.sentence_bleu([reference], hypothesis)\n",
    "print(f\"BLEUscore : {BLEUscore_tf}\")"
   ]
  },
  {
   "cell_type": "code",
   "execution_count": 60,
   "id": "7091bc99",
   "metadata": {},
   "outputs": [
    {
     "name": "stdout",
     "output_type": "stream",
     "text": [
      "BLEUscore : 0.3409050888161509\n"
     ]
    }
   ],
   "source": [
    "hypothesis = pr_summ\n",
    "reference = test_summ\n",
    "BLEUscore_pr = nltk.translate.bleu_score.sentence_bleu([reference], hypothesis)\n",
    "print(f\"BLEUscore : {BLEUscore_pr}\")"
   ]
  },
  {
   "cell_type": "markdown",
   "id": "c122975e",
   "metadata": {},
   "source": [
    "#### 7.1.1 Visualizing scores"
   ]
  },
  {
   "cell_type": "code",
   "execution_count": 61,
   "id": "af608f36",
   "metadata": {},
   "outputs": [],
   "source": [
    "scores = pd.DataFrame({\n",
    "    'Scores': ['K-Mean Cluster','TIFIDF', \n",
    "              'PageRank'],\n",
    "    \n",
    "    'Score_train': [BLEUscore_km, BLEUscore_tf,  \n",
    "              BLEUscore_pr]})\n"
   ]
  },
  {
   "cell_type": "code",
   "execution_count": 62,
   "id": "3bf43745",
   "metadata": {
    "scrolled": true
   },
   "outputs": [
    {
     "data": {
      "image/png": "[encoded data removed]",
      "text/plain": [
       "<Figure size 2500x600 with 1 Axes>"
      ]
     },
     "metadata": {},
     "output_type": "display_data"
    }
   ],
   "source": [
    "plt.figure(figsize=[25,6])\n",
    "xx = scores['Scores']\n",
    "plt.tick_params(labelsize=14)\n",
    "plt.plot(xx, scores['Score_train'], label = 'Score_train')\n",
    "plt.legend()\n",
    "plt.title('Score of models for train and test datasets')\n",
    "plt.xlabel('Models')\n",
    "plt.ylabel('Scores, %')\n",
    "plt.xticks(xx, rotation='vertical')\n",
    "plt.show()"
   ]
  },
  {
   "cell_type": "markdown",
   "id": "57380e99",
   "metadata": {},
   "source": [
    "The result is similar to when using the training dataset."
   ]
  },
  {
   "cell_type": "markdown",
   "id": "10d37f9f",
   "metadata": {},
   "source": [
    "### 7.3 Model evaluation & result with TRAIN data: ROGUE(Recall-Oriented Understudy for Gisting Evaluation) score\n",
    "ROUGE score measures the similarity between the machine-generated summary and the reference summaries using overlapping n-grams, word sequences that appear in both the machine-generated summary and the reference summaries"
   ]
  },
  {
   "cell_type": "code",
   "execution_count": 63,
   "id": "9aaec25d",
   "metadata": {},
   "outputs": [],
   "source": [
    "rouge = evaluate.load('rouge')"
   ]
  },
  {
   "cell_type": "code",
   "execution_count": 64,
   "id": "3e92188b",
   "metadata": {},
   "outputs": [
    {
     "name": "stdout",
     "output_type": "stream",
     "text": [
      "{'rouge1': 0.47586206896551725, 'rouge2': 0.2569444444444444, 'rougeL': 0.2827586206896552, 'rougeLsum': 0.2827586206896552}\n"
     ]
    }
   ],
   "source": [
    "candidates = [kcluster_summary]\n",
    "\n",
    "references = [train_summary]\n",
    "             \n",
    "results = rouge.compute(predictions=candidates, references=references)\n",
    "print(results)"
   ]
  },
  {
   "cell_type": "code",
   "execution_count": 65,
   "id": "1ffafa32",
   "metadata": {},
   "outputs": [
    {
     "name": "stdout",
     "output_type": "stream",
     "text": [
      "{'rouge1': 0.36752136752136755, 'rouge2': 0.1724137931034483, 'rougeL': 0.21367521367521367, 'rougeLsum': 0.358974358974359}\n"
     ]
    }
   ],
   "source": [
    "candidates = [final_summ]\n",
    "\n",
    "references = [train_summary]\n",
    "             \n",
    "results = rouge.compute(predictions=candidates, references=references)\n",
    "print(results)"
   ]
  },
  {
   "cell_type": "code",
   "execution_count": 66,
   "id": "4c994ec8",
   "metadata": {},
   "outputs": [
    {
     "name": "stdout",
     "output_type": "stream",
     "text": [
      "{'rouge1': 0.5333333333333333, 'rouge2': 0.31092436974789917, 'rougeL': 0.3083333333333333, 'rougeLsum': 0.3083333333333333}\n"
     ]
    }
   ],
   "source": [
    "candidates = [summary_pr]\n",
    "\n",
    "references = [train_summary]\n",
    "             \n",
    "results = rouge.compute(predictions=candidates, references=references)\n",
    "print(results)"
   ]
  },
  {
   "cell_type": "markdown",
   "id": "dc11c3c7",
   "metadata": {},
   "source": [
    "#### 7.2.1 Visualizing score"
   ]
  },
  {
   "cell_type": "code",
   "execution_count": 67,
   "id": "a25806f7",
   "metadata": {},
   "outputs": [],
   "source": [
    "from rouge import Rouge\n",
    "def calculate_rouge_scores(hypotheses, references):\n",
    "    rouge = Rouge()\n",
    "    scores = rouge.get_scores(hypotheses, references, avg=True)\n",
    "    return scores"
   ]
  },
  {
   "cell_type": "code",
   "execution_count": 68,
   "id": "bf0b84a3",
   "metadata": {},
   "outputs": [],
   "source": [
    "def visualize_rouge_comparison(techniques, hypotheses, references):\n",
    "    colors = ['blue', 'pink', 'red']\n",
    "\n",
    "    plt.figure(figsize=(10, 6))\n",
    "\n",
    "    for i, technique in enumerate(techniques):\n",
    "        scores = calculate_rouge_scores(hypotheses[technique], references)\n",
    "        categories = list(scores.keys())\n",
    "        values = [scores[category]['f'] * 100 for category in categories]\n",
    "\n",
    "        plt.bar([cat + f\" ({technique})\" for cat in categories], values, color=colors[i], alpha=0.6)\n",
    "\n",
    "    plt.ylabel('ROUGE F1 Score (%)')\n",
    "    plt.xticks(rotation=75)\n",
    "    plt.title('Comparison of ROUGE Scores for Summarization models')\n",
    "    plt.legend(techniques)\n",
    "    plt.show()"
   ]
  },
  {
   "cell_type": "code",
   "execution_count": 69,
   "id": "e09b6ea3",
   "metadata": {},
   "outputs": [
    {
     "data": {
      "image/png": "[encoded data removed]",
      "text/plain": [
       "<Figure size 1000x600 with 1 Axes>"
      ]
     },
     "metadata": {},
     "output_type": "display_data"
    }
   ],
   "source": [
    "kmeans_hypotheses = [kcluster_summary]\n",
    "tfidf_hypotheses = [final_summ]\n",
    "pagerank_hypotheses = [summary_pr]\n",
    "references = [train_summary]\n",
    "\n",
    "# Visualize ROUGE scores for the three techniques\n",
    "visualize_rouge_comparison(['K-Means Clusterer', 'TF-IDF', 'PageRank'],\n",
    "                           {'K-Means Clusterer': kmeans_hypotheses, 'TF-IDF': tfidf_hypotheses, 'PageRank': pagerank_hypotheses},\n",
    "                           references)"
   ]
  },
  {
   "cell_type": "markdown",
   "id": "4c29ea73",
   "metadata": {},
   "source": [
    "With BLEU score, K-Means Clusterer scores the highest followed steeply by PageRank and finally TF-IDF. However, using ROGUE score, K-Means Clusterer scores the lowest at 0.4148 (rogue-1) as well as for all types of rogue evaluation while PageRank remains its high score at 0.7686 (rogue-1). \n",
    "\n",
    "This concludes that PageRank approach is the suitable model to use and yields a better summary."
   ]
  },
  {
   "cell_type": "markdown",
   "id": "5b717cf4",
   "metadata": {},
   "source": [
    "### 7.4 Model evaluation & result with TEST data: ROGUE(Recall-Oriented Understudy for Gisting Evaluation) score"
   ]
  },
  {
   "cell_type": "code",
   "execution_count": 70,
   "id": "5b762aca",
   "metadata": {},
   "outputs": [
    {
     "name": "stdout",
     "output_type": "stream",
     "text": [
      "{'rouge1': 0.4452296819787986, 'rouge2': 0.23487544483985767, 'rougeL': 0.22614840989399296, 'rougeLsum': 0.22614840989399296}\n"
     ]
    }
   ],
   "source": [
    "candidates = [km_summ]\n",
    "\n",
    "references = [test_summ]\n",
    "             \n",
    "results = rouge.compute(predictions=candidates, references=references)\n",
    "print(results)"
   ]
  },
  {
   "cell_type": "code",
   "execution_count": 71,
   "id": "2648572d",
   "metadata": {},
   "outputs": [
    {
     "name": "stdout",
     "output_type": "stream",
     "text": [
      "{'rouge1': 0.4, 'rouge2': 0.22660098522167485, 'rougeL': 0.24390243902439027, 'rougeLsum': 0.39024390243902435}\n"
     ]
    }
   ],
   "source": [
    "candidates = [tfidf_summ]\n",
    "\n",
    "references = [test_summ]\n",
    "             \n",
    "results = rouge.compute(predictions=candidates, references=references)\n",
    "print(results)"
   ]
  },
  {
   "cell_type": "code",
   "execution_count": 72,
   "id": "502ef5d7",
   "metadata": {},
   "outputs": [
    {
     "name": "stdout",
     "output_type": "stream",
     "text": [
      "{'rouge1': 0.5727272727272728, 'rouge2': 0.3211009174311927, 'rougeL': 0.4636363636363636, 'rougeLsum': 0.4636363636363636}\n"
     ]
    }
   ],
   "source": [
    "candidates = [pr_summ]\n",
    "\n",
    "references = [test_summ]\n",
    "             \n",
    "results = rouge.compute(predictions=candidates, references=references)\n",
    "print(results)"
   ]
  },
  {
   "cell_type": "markdown",
   "id": "cd4acc80",
   "metadata": {},
   "source": [
    "#### 7.4.1 Visualizing score"
   ]
  },
  {
   "cell_type": "code",
   "execution_count": 73,
   "id": "07bfe90c",
   "metadata": {},
   "outputs": [],
   "source": [
    "def calculate_rouge_scores(hypotheses, references):\n",
    "    rouge = Rouge()\n",
    "    scores = rouge.get_scores(hypotheses, references, avg=True)\n",
    "    return scores"
   ]
  },
  {
   "cell_type": "code",
   "execution_count": 74,
   "id": "9166fd65",
   "metadata": {},
   "outputs": [],
   "source": [
    "def visualize_rouge_comparison(techniques, hypotheses, references):\n",
    "    colors = ['blue', 'pink', 'red']\n",
    "\n",
    "    plt.figure(figsize=(10, 6))\n",
    "\n",
    "    for i, technique in enumerate(techniques):\n",
    "        scores = calculate_rouge_scores(hypotheses[technique], references)\n",
    "        categories = list(scores.keys())\n",
    "        values = [scores[category]['f'] * 100 for category in categories]\n",
    "\n",
    "        plt.bar([cat + f\" ({technique})\" for cat in categories], values, color=colors[i], alpha=0.6)\n",
    "\n",
    "    plt.ylabel('ROUGE F1 Score (%)')\n",
    "    plt.xticks(rotation=75)\n",
    "    plt.title('Comparison of ROUGE Scores for Summarization models')\n",
    "    plt.legend(techniques)\n",
    "    plt.show()"
   ]
  },
  {
   "cell_type": "code",
   "execution_count": 75,
   "id": "a921c401",
   "metadata": {},
   "outputs": [
    {
     "data": {
      "image/png": "[encoded data removed]",
      "text/plain": [
       "<Figure size 1000x600 with 1 Axes>"
      ]
     },
     "metadata": {},
     "output_type": "display_data"
    }
   ],
   "source": [
    "kmeans_hypotheses = [km_summ]\n",
    "tfidf_hypotheses = [tfidf_summ]\n",
    "pagerank_hypotheses = [pr_summ]\n",
    "references = [test_summ]\n",
    "\n",
    "# Visualize ROUGE scores for the three techniques\n",
    "visualize_rouge_comparison(['K-Means Clusterer', 'TF-IDF', 'PageRank'],\n",
    "                           {'K-Means Clusterer': kmeans_hypotheses, 'TF-IDF': tfidf_hypotheses, 'PageRank': pagerank_hypotheses},\n",
    "                           references)"
   ]
  },
  {
   "cell_type": "markdown",
   "id": "26e375c4",
   "metadata": {},
   "source": [
    "Similar result when using the training data."
   ]
  },
  {
   "cell_type": "markdown",
   "id": "9885ccdf",
   "metadata": {},
   "source": [
    "### 7.5 Overall evaluation\n",
    "\n",
    "\n",
    "Based on the overall scores of each models, PageRank approach appears to score particular well on both evaluation compare to the other two models. While K-Mean Clusterer scores the highest for BLEU, it is the lowest for ROGUE especially as seen from the rogue-2 score while PageRank scores the highest for all 3 types of ROGUE score. Hence, the PageRank approach will be use for the deployment of the model for simple text summarization application. "
   ]
  },
  {
   "cell_type": "markdown",
   "id": "b688c411",
   "metadata": {},
   "source": [
    "### 8. Hyperparameter tuning with TEST data\n",
    "\n",
    "Hyperparameter tuning is a process of which allows data scientists to tweak model performance for optimal results. In this case, with PageRank scores the best out of 3 models, there 3 hyperparameters identified in order to be used for tuning: n-gram range, parameter for tfidf vectorizer and the use of stopwords. These hyperparameters will be tweaked when the fuction is being called and the result will be evaluated using both BLEU and ROUGE to be compared with PageRank without tuning its hyperparameter.  "
   ]
  },
  {
   "cell_type": "code",
   "execution_count": 82,
   "id": "627ce633",
   "metadata": {},
   "outputs": [
    {
     "name": "stdout",
     "output_type": "stream",
     "text": [
      "Rocker Doherty on-stage fight Rock singer Pete Doherty involved fight band's guitarist biggest gig date. Babyshambles, formed acrimonious departure Libertines, played warm-up show The Garage, north London, Monday. Babyshambles played 5,000 fans London's Brixton Academy Tuesday. Monday Doherty faced blackmail robbery charges court, denies. Tuesday, Doherty three bandmates introduced crowd Mick Jones, former Clash guitarist produced Libertines' second album.\n"
     ]
    }
   ],
   "source": [
    "#function for hyperparameter tuning for PageRank\n",
    "\n",
    "def hyper_pagerank(text, n, vectorizer_params=None, use_stop_words=True):\n",
    "    txt = text_cleaner(text)\n",
    "    sentences = nltk.sent_tokenize(txt)\n",
    "    stop_words = set(stopwords.words(\"english\"))\n",
    "\n",
    "    # Tokenize words and remove stop words\n",
    "    word_tokens = [word_tokenize(sentence) for sentence in sentences]\n",
    "    filtered_tokens = [[word.lower() for word in words if word.isalnum() and word.lower() not in stop_words] for words in word_tokens]\n",
    "\n",
    "    # Create a TF-IDF matrix with customizable parameters\n",
    "    vectorizer_params = vectorizer_params or {}\n",
    "    vectorizer = TfidfVectorizer(**vectorizer_params)\n",
    "    tfidf_matrix = vectorizer.fit_transform([\" \".join(words) for words in filtered_tokens])\n",
    "\n",
    "    similarity_matrix = cosine_similarity(tfidf_matrix, tfidf_matrix)\n",
    "\n",
    "    # Build the graph\n",
    "    graph = nx.from_numpy_array(similarity_matrix)\n",
    "\n",
    "    pagerank_scores = nx.pagerank(graph)\n",
    "\n",
    "    ranked_sentences = sorted(((pagerank_scores[i], sentence) for i, sentence in enumerate(sentences)), reverse=True)\n",
    "\n",
    "    # Extract the top-ranked sentences for the summary\n",
    "    num_sentences_in_summary = n\n",
    "    summary = \" \".join([sentence for _, sentence in ranked_sentences[:num_sentences_in_summary]])\n",
    "\n",
    "    return summary\n",
    "\n",
    "# Normal settings: ngram = (1,2), use_idf = True, smooth_idf = True\n",
    "vectorizer_params = {'ngram_range': (1, 1), 'use_idf': False, 'smooth_idf': True}\n",
    "h_summary = hyper_pagerank(test_text, n=5, vectorizer_params=vectorizer_params, use_stop_words=True)\n",
    "print(h_summary)\n",
    "#if you change use_idf to False, BLEUscore higher or BOTH idf false"
   ]
  },
  {
   "cell_type": "code",
   "execution_count": 83,
   "id": "19beca06",
   "metadata": {},
   "outputs": [
    {
     "name": "stdout",
     "output_type": "stream",
     "text": [
      "BLEUscore : 0.37368024340873973\n"
     ]
    }
   ],
   "source": [
    "hypothesis = h_summary\n",
    "reference = test_summ\n",
    "BLEUscore_h = nltk.translate.bleu_score.sentence_bleu([reference], hypothesis)\n",
    "print(f\"BLEUscore : {BLEUscore_h}\")"
   ]
  },
  {
   "cell_type": "code",
   "execution_count": 84,
   "id": "3062b3f9",
   "metadata": {},
   "outputs": [
    {
     "name": "stdout",
     "output_type": "stream",
     "text": [
      "{'rouge1': 0.035398230088495575, 'rouge2': 0.0, 'rougeL': 0.02654867256637168, 'rougeLsum': 0.02654867256637168}\n"
     ]
    }
   ],
   "source": [
    "candidates = [h_summary]\n",
    "\n",
    "references = [train_summary]\n",
    "             \n",
    "results = rouge.compute(predictions=candidates, references=references)\n",
    "print(results)"
   ]
  },
  {
   "cell_type": "code",
   "execution_count": 85,
   "id": "c4cd0026",
   "metadata": {},
   "outputs": [],
   "source": [
    "scores = pd.DataFrame({\n",
    "    'Scores': ['PageRank', 'PageRank Hyperparameter'],\n",
    "    \n",
    "    'Score_train': [BLEUscore_pr, BLEUscore_h]})"
   ]
  },
  {
   "cell_type": "code",
   "execution_count": 86,
   "id": "c2691d10",
   "metadata": {},
   "outputs": [
    {
     "data": {
      "image/png": "[encoded data removed]",
      "text/plain": [
       "<Figure size 2500x600 with 1 Axes>"
      ]
     },
     "metadata": {},
     "output_type": "display_data"
    }
   ],
   "source": [
    "plt.figure(figsize=[25,6])\n",
    "xx = scores['Scores']\n",
    "plt.tick_params(labelsize=14)\n",
    "plt.plot(xx, scores['Score_train'], label = 'Score_train')\n",
    "plt.legend()\n",
    "plt.title('Score of models for train and test datasets')\n",
    "plt.xlabel('Models')\n",
    "plt.ylabel('Scores, %')\n",
    "plt.xticks(xx, rotation='vertical')\n",
    "plt.show()"
   ]
  },
  {
   "cell_type": "markdown",
   "id": "9cf276e1",
   "metadata": {},
   "source": [
    "#### 8.1 Result of BLEU\n",
    "\n",
    "The result shows that by tweaking the hyperparameter into a unigram, removing use_idf, keeping smooth_idf and keeping stopwords. There appear to be an improvement of the model with hyperparameter tuning. BLEU score without hyperparameter tuning is 34% while with hyperparameter tuning is 37% which is a 3% increase."
   ]
  },
  {
   "cell_type": "markdown",
   "id": "f516fb88",
   "metadata": {},
   "source": [
    "#### 8.2 ROGUE score for PageRank without hyperparameter tuning and with hyperparameter tuning."
   ]
  },
  {
   "cell_type": "code",
   "execution_count": 87,
   "id": "04d2af8f",
   "metadata": {},
   "outputs": [
    {
     "data": {
      "image/png": "[encoded data removed]",
      "text/plain": [
       "<Figure size 1000x600 with 1 Axes>"
      ]
     },
     "metadata": {},
     "output_type": "display_data"
    }
   ],
   "source": [
    "pagerank_hypotheses = [pr_summ]\n",
    "pagerank_hyperparam_hypotheses = [h_summary]\n",
    "references = [test_text]\n",
    "visualize_rouge_comparison(['PageRank', 'PageRank Hyperparameter'],\n",
    "                           {'PageRank': pagerank_hypotheses, 'PageRank Hyperparameter': pagerank_hyperparam_hypotheses},\n",
    "                           references)"
   ]
  },
  {
   "cell_type": "markdown",
   "id": "a9f16795",
   "metadata": {},
   "source": [
    "\n",
    "However, upon further evaluation with ROGUE score, it appears to have no difference. Despite that, with an increase in BLEU score and the equal score for ROGUE might indicates that there might a slight improvement towards the model's performance through a correct hyperparameter tuning."
   ]
  },
  {
   "cell_type": "markdown",
   "id": "9cad7efd",
   "metadata": {},
   "source": [
    "### 9. Result and discussion\n",
    "Q: What were the main findings or results of your NLP project? And did you include visualizations or graphs to support your findings?\n",
    "\n",
    "Based on the result and the graphs generated during evaluation, the best summary generated by using PageRank model compare the other model especially during the evaluation using BLEU score in which K-Means leads the score with PageRank second with a small differences. However, upon further evaluation using ROGUE(Recall-Oriented Understudy for Gisting Evaluation) for deeper clarification, PageRank leads the score for all types of score of ROGUE which makes it the best model for text summarization.\n",
    "\n",
    "Furthermore, hyperparameter tuning was conducted for PageRank model in order to optimize its performance. By tuning the parameters of n-gram range, the TF-IDF parameters, and whether to remove stopwords or not. By performing the hyperparameter tuning, the result shows for BLEU that there is an improvement to the model score of 3% increase while ROGUE scores shows that there's no improvement between conducting hyperparameter tuning and without, result remain the same with slight miniscule decrease from rogue-2 score when using hyperparameter tuning which could be factored by various reason. Overall, based on BLEU score there appears to be an improvement if conducting hyperparparameter tuning.\n",
    "\n",
    "\n",
    "Finally, to answer the research topic of this project whether the generated summary is better than the original summary, the scores provided implies that there has been a slight improvement of 57% accuracy via ROGUE-1 and ROGUE-l scores. Hence, it concludes that the null hypotheses will be rejected.\n",
    "\n",
    "Q: How do your results compare to existing research in the field?\n",
    "\n",
    "The existing research conducted by user (https://www.kaggle.com/code/vshantam/text-summarization-extractive-bleu) shown that they have a lower BLEU score. However, the method that they are using are different which might affect the performance but in overall perspective, an there are an improvement through the methods use in this project hence, it would conclude that the result yield from this project have shown that text summarization have bigger room for improvement by using multiple methods."
   ]
  },
  {
   "cell_type": "markdown",
   "id": "d0ce2996",
   "metadata": {},
   "source": [
    "### 10. Challenges faced\n",
    " \n",
    "Among the challenges faced during this project was how I was unable to install a library such as Tensorflow pre-trained model without causing kernel crashed. However, this has been overcome by properly installing it with the correct steps and requirement needed until it eventually allows me to use the model. It is as learning lesson for me that I should ensure proper installation before running the library in order to avoid repeating the same issue in the future.\n",
    "\n",
    "Aside from that, there are challenges such as figuring the correct model to use for text summarization and how to split dataset. Since text summarization does not require elaborate train-test split and are mostly use a simple paragraph as a data as it rarely used a supervised leaning approach for text summarization. Hence, there are no train-test split since most of the models and approaches use for this research are using an unsupervised learning approach and non-traditional ML model such as PageRank. Hence, it is difficult to really figure out how to calculate the accuracy score of the mode. To fix this, for K-Means Clusterer, I'm using Silhouette Score to measure its accuracy by using the assigned cluster. The result shows that it is a relatively a good performance. Next, for the measurement of performance for all three models is using the BLEU score and the ROGUE score which measures the quality between the summary generated from the original dataset with the summary generated by the model used for this project.\n",
    "\n",
    "Finally, difficulties in developing the hyperparameter tuning for the best model which in this case is the PageRank. There are lack of hyperparameters to tune for PageRank as it is a graph based model. Despite that, I managed to solve by tweaking the parameters for the TF-IDF, the n-gram range and the use of stopwords in order to find any sort of improvisation by tuning the hyperparameter."
   ]
  },
  {
   "cell_type": "markdown",
   "id": "51df3369",
   "metadata": {},
   "source": [
    "### 11. Future works\n",
    "\n",
    "To use more model in order to compare each result better. More precisely, using a supervised learning approach and whether it is suitable for text summarization since more often, text summarization commonly use unsupervised learning approach with no labelled data. \n",
    "\n",
    "Furthermore, to use the abtstractive method of text summarization and compare it with extractive to see which produces better outputs of summarization."
   ]
  },
  {
   "cell_type": "code",
   "execution_count": null,
   "id": "5329053d",
   "metadata": {},
   "outputs": [],
   "source": []
  }
 ],
 "metadata": {
  "kernelspec": {
   "display_name": "Python 3 (ipykernel)",
   "language": "python",
   "name": "python3"
  },
  "language_info": {
   "codemirror_mode": {
    "name": "ipython",
    "version": 3
   },
   "file_extension": ".py",
   "mimetype": "text/x-python",
   "name": "python",
   "nbconvert_exporter": "python",
   "pygments_lexer": "ipython3",
   "version": "3.10.9"
  }
 },
 "nbformat": 4,
 "nbformat_minor": 5
}
